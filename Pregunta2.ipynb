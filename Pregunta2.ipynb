{
 "cells": [
  {
   "cell_type": "markdown",
   "metadata": {},
   "source": [
    "<img src=\"http://www.exalumnos.usm.cl/wp-content/uploads/2015/06/Isotipo-Negro.gif\" title=\"Title text\" width=\"20%\" height=\"20%\" />\n",
    "\n",
    "\n",
    "<hr style=\"height:2px;border:none\"/>\n",
    "<h1 align='center'> INF-395/477 Redes Neuronales Artificiales I-2018 </h1>\n",
    "\n",
    "<H3 align='center'> Tarea 2 - Redes Neuronales Convolucionales y Recurrentes </H3>\n",
    "<hr style=\"height:2px;border:none\"/>\n",
    "\n",
    "**Temas**  \n",
    "* Regularización en Redes Convolucionales.\n",
    "* Diseño e implementación de redes recurrentes (RNN) usando keras.\n",
    "* Diseño y entrenamiento de autoencoders (AEs)\n",
    "* Transfer Learning, pre-entrenamiento (*fine tunning*).\n",
    " \n",
    "\n",
    "** Formalidades **  \n",
    "* Equipos de trabajo de: 2 personas (*cada uno debe estar en condiciones de realizar una presentación y discutir sobre cada punto del trabajo realizado*)\n",
    "* Se debe preparar una presentación de 20 minutos. Presentador será elegido aleatoriamente.\n",
    "* Se debe preparar un (breve) Jupyter/IPython notebook que explique la actividad realizada y las conclusiones del trabajo\n",
    "* Fecha de entrega y discusión: 1 y 4 de Junio.\n",
    "* Formato de entrega: envı́o de link Github al correo electrónico del ayudante (*<francisco.mena.13@sansano.usm.cl>*) , incluyendo al profesor en copia (*<jnancu@inf.utfsm.cl>*). Por favor especificar el siguiente asunto: [Tarea2-INF395-I-2018]\n",
    "\n",
    "<hr style=\"height:2px;border:none\"/>\n",
    "\n",
    "La tarea se divide en secciones:\n",
    "\n",
    "[1.](#primero) Entrenamiento de RNNs en una Serie de Tiempo    \n",
    "[2.](#segundo) Redes recurrentes sobre texto  \n",
    "[3.](#tercero) Autoencoders (AEs) en MNIST  \n",
    "[4.](#cuarto) Transfer Learning\n",
    "\n",
    "*Nota: Para esta actividad si es que no se cuenta con GPU se recomienda utilizar el entorno virtual de __[Colaboratory - Google](https://colab.research.google.com/)__*\n"
   ]
  },
  {
   "cell_type": "markdown",
   "metadata": {},
   "source": [
    "<a id=\"segundo\"></a>\n",
    "## 2.  Redes recurrentes sobre texto\n",
    "Hoy en dı́a, una aplicación relevante de las redes neuronales recurrentes es el modelamiento de texto y lenguaje natural. En esta sección abordaremos el problema de procesar sentencias de texto proporcionadas por GMB (*Groningen Meaning Bank*) para reconocimiento de entidades y tagger. Trabajaremos con el dataset proprocionado a través de la interfaz de Kaggle en el siguiente __[link](https://www.kaggle.com/abhinavwalia95/entity-annotated-corpus)__, con mas de un millón de palabras trabajaremos este dataset para realizar predicciones sobre distintas tareas, del tipo *many to many* y *many to one*.\n",
    "\n",
    "<img src=\"https://i.stack.imgur.com/b4sus.jpg\" width=\"70%\" />\n",
    "\n",
    "\n",
    "Descargue los datos de la página de Kaggle y cárgelos a través de *pandas*.\n",
    "```python\n",
    "import numpy as np\n",
    "import pandas as pd\n",
    "df_ner = pd.read_csv(\"./entity-annotated-corpus/ner.csv\", error_bad_lines=False)\n",
    "df_ner.dropna(inplace=True)\n",
    "```\n"
   ]
  },
  {
   "cell_type": "code",
   "execution_count": 65,
   "metadata": {},
   "outputs": [
    {
     "name": "stderr",
     "output_type": "stream",
     "text": [
      "b'Skipping line 281837: expected 25 fields, saw 34\\n'\n"
     ]
    }
   ],
   "source": [
    "import numpy as np\n",
    "import pandas as pd\n",
    "df_ner = pd.read_csv(\"ner.csv\", encoding =\"cp1252\", error_bad_lines=False)\n",
    "df_ner.dropna(inplace=True)"
   ]
  },
  {
   "cell_type": "code",
   "execution_count": 66,
   "metadata": {},
   "outputs": [
    {
     "data": {
      "text/plain": [
       "Index(['Unnamed: 0', 'lemma', 'next-lemma', 'next-next-lemma', 'next-next-pos',\n",
       "       'next-next-shape', 'next-next-word', 'next-pos', 'next-shape',\n",
       "       'next-word', 'pos', 'prev-iob', 'prev-lemma', 'prev-pos',\n",
       "       'prev-prev-iob', 'prev-prev-lemma', 'prev-prev-pos', 'prev-prev-shape',\n",
       "       'prev-prev-word', 'prev-shape', 'prev-word', 'sentence_idx', 'shape',\n",
       "       'word', 'tag'],\n",
       "      dtype='object')"
      ]
     },
     "execution_count": 66,
     "metadata": {},
     "output_type": "execute_result"
    }
   ],
   "source": [
    "df_ner.columns"
   ]
  },
  {
   "cell_type": "markdown",
   "metadata": {},
   "source": [
    "1. lemma: Lemma of a token in sentence \n",
    "2. next-lemma: Lemma of next token in sentence\n",
    "3. next-next-lemma: Lemma of token at +2nd position to the current token in sentence\n",
    "4. next-next-pos: POS tag of token at +2nd position to the current token in sentence\n",
    "5. next-next-shape: Shape of token at +2nd position to the current token in sentence\n",
    "6. next-next-word: Token at +2nd position to the current token in sentence\n",
    "7. next-pos: POS tag of the next(+1 position) token\n",
    "8. next-shape: Shape of the next(+1 position) token\n",
    "9. next-word: Next(+1 position) token\n",
    "10. pos: POS tag of current token\n",
    "11. prev-iob: IOB annotation of previous token\n",
    "12. prev-lemma: Lemma of previous token\n",
    "13. prev-pos: POS tag for previous token\n",
    "14. prev-prev-iob: IOB annotation of token at -2nd position to the current token in sentence\n",
    "15. prev-prev-lemma: Lemma of token at -2nd position to the current token in sentence\n",
    "16. prev-prev-pos: POS tag of token at -2nd position to the current token in sentence\n",
    "17. prev-prev-shape: Shape of token at -2nd position to the current token in sentence\n",
    "18. prev-prev-word: Token at -2nd position to the current token in sentence\n",
    "19. prev-shape: Shape of previous(-1 position to current token) token\n",
    "20. prev-word: Previous word(-1 position to current token)\n",
    "21. sentence_idx: Sentence Index(Tokens having same index belongs to same sentence)\n",
    "22. shape: Shape of the token in sentence\n",
    "23. word: Often termed as Token\n",
    "24. tag: IOB annotation of current token"
   ]
  },
  {
   "cell_type": "code",
   "execution_count": 67,
   "metadata": {},
   "outputs": [
    {
     "data": {
      "text/plain": [
       "(1050794, 25)"
      ]
     },
     "execution_count": 67,
     "metadata": {},
     "output_type": "execute_result"
    }
   ],
   "source": [
    "df_ner.shape"
   ]
  },
  {
   "cell_type": "code",
   "execution_count": 68,
   "metadata": {},
   "outputs": [
    {
     "name": "stdout",
     "output_type": "stream",
     "text": [
      "<class 'pandas.core.frame.DataFrame'>\n",
      "Int64Index: 1050794 entries, 0 to 1050794\n",
      "Data columns (total 25 columns):\n",
      "Unnamed: 0         1050794 non-null int64\n",
      "lemma              1050794 non-null object\n",
      "next-lemma         1050794 non-null object\n",
      "next-next-lemma    1050794 non-null object\n",
      "next-next-pos      1050794 non-null object\n",
      "next-next-shape    1050794 non-null object\n",
      "next-next-word     1050794 non-null object\n",
      "next-pos           1050794 non-null object\n",
      "next-shape         1050794 non-null object\n",
      "next-word          1050794 non-null object\n",
      "pos                1050794 non-null object\n",
      "prev-iob           1050794 non-null object\n",
      "prev-lemma         1050794 non-null object\n",
      "prev-pos           1050794 non-null object\n",
      "prev-prev-iob      1050794 non-null object\n",
      "prev-prev-lemma    1050794 non-null object\n",
      "prev-prev-pos      1050794 non-null object\n",
      "prev-prev-shape    1050794 non-null object\n",
      "prev-prev-word     1050794 non-null object\n",
      "prev-shape         1050794 non-null object\n",
      "prev-word          1050794 non-null object\n",
      "sentence_idx       1050794 non-null float64\n",
      "shape              1050794 non-null object\n",
      "word               1050794 non-null object\n",
      "tag                1050794 non-null object\n",
      "dtypes: float64(1), int64(1), object(23)\n",
      "memory usage: 208.4+ MB\n"
     ]
    }
   ],
   "source": [
    "df_ner.info()"
   ]
  },
  {
   "cell_type": "code",
   "execution_count": 69,
   "metadata": {
    "scrolled": true
   },
   "outputs": [
    {
     "data": {
      "text/html": [
       "<div>\n",
       "<style scoped>\n",
       "    .dataframe tbody tr th:only-of-type {\n",
       "        vertical-align: middle;\n",
       "    }\n",
       "\n",
       "    .dataframe tbody tr th {\n",
       "        vertical-align: top;\n",
       "    }\n",
       "\n",
       "    .dataframe thead th {\n",
       "        text-align: right;\n",
       "    }\n",
       "</style>\n",
       "<table border=\"1\" class=\"dataframe\">\n",
       "  <thead>\n",
       "    <tr style=\"text-align: right;\">\n",
       "      <th></th>\n",
       "      <th>Unnamed: 0</th>\n",
       "      <th>lemma</th>\n",
       "      <th>next-lemma</th>\n",
       "      <th>next-next-lemma</th>\n",
       "      <th>next-next-pos</th>\n",
       "      <th>next-next-shape</th>\n",
       "      <th>next-next-word</th>\n",
       "      <th>next-pos</th>\n",
       "      <th>next-shape</th>\n",
       "      <th>next-word</th>\n",
       "      <th>...</th>\n",
       "      <th>prev-prev-lemma</th>\n",
       "      <th>prev-prev-pos</th>\n",
       "      <th>prev-prev-shape</th>\n",
       "      <th>prev-prev-word</th>\n",
       "      <th>prev-shape</th>\n",
       "      <th>prev-word</th>\n",
       "      <th>sentence_idx</th>\n",
       "      <th>shape</th>\n",
       "      <th>word</th>\n",
       "      <th>tag</th>\n",
       "    </tr>\n",
       "  </thead>\n",
       "  <tbody>\n",
       "    <tr>\n",
       "      <th>0</th>\n",
       "      <td>0</td>\n",
       "      <td>thousand</td>\n",
       "      <td>of</td>\n",
       "      <td>demonstr</td>\n",
       "      <td>NNS</td>\n",
       "      <td>lowercase</td>\n",
       "      <td>demonstrators</td>\n",
       "      <td>IN</td>\n",
       "      <td>lowercase</td>\n",
       "      <td>of</td>\n",
       "      <td>...</td>\n",
       "      <td>__start2__</td>\n",
       "      <td>__START2__</td>\n",
       "      <td>wildcard</td>\n",
       "      <td>__START2__</td>\n",
       "      <td>wildcard</td>\n",
       "      <td>__START1__</td>\n",
       "      <td>1.0</td>\n",
       "      <td>capitalized</td>\n",
       "      <td>Thousands</td>\n",
       "      <td>O</td>\n",
       "    </tr>\n",
       "    <tr>\n",
       "      <th>1</th>\n",
       "      <td>1</td>\n",
       "      <td>of</td>\n",
       "      <td>demonstr</td>\n",
       "      <td>have</td>\n",
       "      <td>VBP</td>\n",
       "      <td>lowercase</td>\n",
       "      <td>have</td>\n",
       "      <td>NNS</td>\n",
       "      <td>lowercase</td>\n",
       "      <td>demonstrators</td>\n",
       "      <td>...</td>\n",
       "      <td>__start1__</td>\n",
       "      <td>__START1__</td>\n",
       "      <td>wildcard</td>\n",
       "      <td>__START1__</td>\n",
       "      <td>capitalized</td>\n",
       "      <td>Thousands</td>\n",
       "      <td>1.0</td>\n",
       "      <td>lowercase</td>\n",
       "      <td>of</td>\n",
       "      <td>O</td>\n",
       "    </tr>\n",
       "    <tr>\n",
       "      <th>2</th>\n",
       "      <td>2</td>\n",
       "      <td>demonstr</td>\n",
       "      <td>have</td>\n",
       "      <td>march</td>\n",
       "      <td>VBN</td>\n",
       "      <td>lowercase</td>\n",
       "      <td>marched</td>\n",
       "      <td>VBP</td>\n",
       "      <td>lowercase</td>\n",
       "      <td>have</td>\n",
       "      <td>...</td>\n",
       "      <td>thousand</td>\n",
       "      <td>NNS</td>\n",
       "      <td>capitalized</td>\n",
       "      <td>Thousands</td>\n",
       "      <td>lowercase</td>\n",
       "      <td>of</td>\n",
       "      <td>1.0</td>\n",
       "      <td>lowercase</td>\n",
       "      <td>demonstrators</td>\n",
       "      <td>O</td>\n",
       "    </tr>\n",
       "    <tr>\n",
       "      <th>3</th>\n",
       "      <td>3</td>\n",
       "      <td>have</td>\n",
       "      <td>march</td>\n",
       "      <td>through</td>\n",
       "      <td>IN</td>\n",
       "      <td>lowercase</td>\n",
       "      <td>through</td>\n",
       "      <td>VBN</td>\n",
       "      <td>lowercase</td>\n",
       "      <td>marched</td>\n",
       "      <td>...</td>\n",
       "      <td>of</td>\n",
       "      <td>IN</td>\n",
       "      <td>lowercase</td>\n",
       "      <td>of</td>\n",
       "      <td>lowercase</td>\n",
       "      <td>demonstrators</td>\n",
       "      <td>1.0</td>\n",
       "      <td>lowercase</td>\n",
       "      <td>have</td>\n",
       "      <td>O</td>\n",
       "    </tr>\n",
       "    <tr>\n",
       "      <th>4</th>\n",
       "      <td>4</td>\n",
       "      <td>march</td>\n",
       "      <td>through</td>\n",
       "      <td>london</td>\n",
       "      <td>NNP</td>\n",
       "      <td>capitalized</td>\n",
       "      <td>London</td>\n",
       "      <td>IN</td>\n",
       "      <td>lowercase</td>\n",
       "      <td>through</td>\n",
       "      <td>...</td>\n",
       "      <td>demonstr</td>\n",
       "      <td>NNS</td>\n",
       "      <td>lowercase</td>\n",
       "      <td>demonstrators</td>\n",
       "      <td>lowercase</td>\n",
       "      <td>have</td>\n",
       "      <td>1.0</td>\n",
       "      <td>lowercase</td>\n",
       "      <td>marched</td>\n",
       "      <td>O</td>\n",
       "    </tr>\n",
       "  </tbody>\n",
       "</table>\n",
       "<p>5 rows × 25 columns</p>\n",
       "</div>"
      ],
      "text/plain": [
       "   Unnamed: 0     lemma next-lemma next-next-lemma next-next-pos  \\\n",
       "0           0  thousand         of        demonstr           NNS   \n",
       "1           1        of   demonstr            have           VBP   \n",
       "2           2  demonstr       have           march           VBN   \n",
       "3           3      have      march         through            IN   \n",
       "4           4     march    through          london           NNP   \n",
       "\n",
       "  next-next-shape next-next-word next-pos next-shape      next-word ...  \\\n",
       "0       lowercase  demonstrators       IN  lowercase             of ...   \n",
       "1       lowercase           have      NNS  lowercase  demonstrators ...   \n",
       "2       lowercase        marched      VBP  lowercase           have ...   \n",
       "3       lowercase        through      VBN  lowercase        marched ...   \n",
       "4     capitalized         London       IN  lowercase        through ...   \n",
       "\n",
       "  prev-prev-lemma prev-prev-pos prev-prev-shape prev-prev-word   prev-shape  \\\n",
       "0      __start2__    __START2__        wildcard     __START2__     wildcard   \n",
       "1      __start1__    __START1__        wildcard     __START1__  capitalized   \n",
       "2        thousand           NNS     capitalized      Thousands    lowercase   \n",
       "3              of            IN       lowercase             of    lowercase   \n",
       "4        demonstr           NNS       lowercase  demonstrators    lowercase   \n",
       "\n",
       "       prev-word sentence_idx        shape           word tag  \n",
       "0     __START1__          1.0  capitalized      Thousands   O  \n",
       "1      Thousands          1.0    lowercase             of   O  \n",
       "2             of          1.0    lowercase  demonstrators   O  \n",
       "3  demonstrators          1.0    lowercase           have   O  \n",
       "4           have          1.0    lowercase        marched   O  \n",
       "\n",
       "[5 rows x 25 columns]"
      ]
     },
     "execution_count": 69,
     "metadata": {},
     "output_type": "execute_result"
    }
   ],
   "source": [
    "df_ner.head()"
   ]
  },
  {
   "cell_type": "markdown",
   "metadata": {},
   "source": [
    "El dataset es básicamente una gran colección de palabras, 1050794 para ser exactos, en sentencias diferentes, junto a las palabras que le anteceden y que le prosiguen, además varios descriptores, siendo los más importantes sus etiquetados gramaticales (Pos Taggers) y sus lematizaciones (Lemmas)."
   ]
  },
  {
   "cell_type": "markdown",
   "metadata": {},
   "source": [
    "> a) En esta primera instancia trabajaremos con la tarea de realizar un POS *tag* (*Part of Speech*) sobre cada una de las palabras en las sentencias que se nos presenta en los datos, también puede intentar el NER (*Named Entity Recogntion*) sobre la columna *tag*, esta tarea es del tipo *many to many*, es decir, la entrada es una secuencia y la salida es una secuencia sin *shift*, por lo que necesitaremos una estructura de red adecuada a esto. En primer lugar extraiga las columnas que utilizaremos del dataset ¿Por qué es conveniente utilizar *lemma* en vez de la palabra misma *word*?\n",
    "```python\n",
    "dataset = df_ner.loc[:,[\"lemma\",\"pos\",\"tag\",\"prev-iob\"]]\n",
    "```\n"
   ]
  },
  {
   "cell_type": "code",
   "execution_count": 70,
   "metadata": {},
   "outputs": [],
   "source": [
    "dataset = df_ner.loc[:,[\"lemma\",\"pos\",\"tag\",\"prev-iob\"]]"
   ]
  },
  {
   "cell_type": "code",
   "execution_count": 71,
   "metadata": {},
   "outputs": [
    {
     "data": {
      "text/plain": [
       "(1050794, 4)"
      ]
     },
     "execution_count": 71,
     "metadata": {},
     "output_type": "execute_result"
    }
   ],
   "source": [
    "dataset.shape"
   ]
  },
  {
   "cell_type": "code",
   "execution_count": 72,
   "metadata": {},
   "outputs": [
    {
     "data": {
      "text/html": [
       "<div>\n",
       "<style scoped>\n",
       "    .dataframe tbody tr th:only-of-type {\n",
       "        vertical-align: middle;\n",
       "    }\n",
       "\n",
       "    .dataframe tbody tr th {\n",
       "        vertical-align: top;\n",
       "    }\n",
       "\n",
       "    .dataframe thead th {\n",
       "        text-align: right;\n",
       "    }\n",
       "</style>\n",
       "<table border=\"1\" class=\"dataframe\">\n",
       "  <thead>\n",
       "    <tr style=\"text-align: right;\">\n",
       "      <th></th>\n",
       "      <th>lemma</th>\n",
       "      <th>pos</th>\n",
       "      <th>tag</th>\n",
       "      <th>prev-iob</th>\n",
       "    </tr>\n",
       "  </thead>\n",
       "  <tbody>\n",
       "    <tr>\n",
       "      <th>0</th>\n",
       "      <td>thousand</td>\n",
       "      <td>NNS</td>\n",
       "      <td>O</td>\n",
       "      <td>__START1__</td>\n",
       "    </tr>\n",
       "    <tr>\n",
       "      <th>1</th>\n",
       "      <td>of</td>\n",
       "      <td>IN</td>\n",
       "      <td>O</td>\n",
       "      <td>O</td>\n",
       "    </tr>\n",
       "    <tr>\n",
       "      <th>2</th>\n",
       "      <td>demonstr</td>\n",
       "      <td>NNS</td>\n",
       "      <td>O</td>\n",
       "      <td>O</td>\n",
       "    </tr>\n",
       "    <tr>\n",
       "      <th>3</th>\n",
       "      <td>have</td>\n",
       "      <td>VBP</td>\n",
       "      <td>O</td>\n",
       "      <td>O</td>\n",
       "    </tr>\n",
       "    <tr>\n",
       "      <th>4</th>\n",
       "      <td>march</td>\n",
       "      <td>VBN</td>\n",
       "      <td>O</td>\n",
       "      <td>O</td>\n",
       "    </tr>\n",
       "  </tbody>\n",
       "</table>\n",
       "</div>"
      ],
      "text/plain": [
       "      lemma  pos tag    prev-iob\n",
       "0  thousand  NNS   O  __START1__\n",
       "1        of   IN   O           O\n",
       "2  demonstr  NNS   O           O\n",
       "3      have  VBP   O           O\n",
       "4     march  VBN   O           O"
      ]
     },
     "execution_count": 72,
     "metadata": {},
     "output_type": "execute_result"
    }
   ],
   "source": [
    "dataset.head()"
   ]
  },
  {
   "cell_type": "markdown",
   "metadata": {},
   "source": [
    "Cada vez que se trabaja con texto para realizar análisis de estos o para aprender de ellos, como en este caso, es de suma importancia eliminar información redundante, inútil o desagregada; es decir, se deben limpiar los datos de manera que sean de utilidad. Uno de los procesos para la limpieza de texto es la lematización, o sea, llevar una palabra a su raíz gramatical de manera que las ocurrencias de estas en distintas conjugaciones puedan utilizarse indistintamente. Esta es la razón principal de que se ocupe la columna <i>lemma</i> en vez de la columna <i>word</i>."
   ]
  },
  {
   "cell_type": "markdown",
   "metadata": {},
   "source": [
    "Luego de esto cree una estructura que contendrá todas las sentencias u oraciones y otra estructura que contendrá los *pos tagger*, esto es un arreglo de arreglos de *lemmas* y un arreglo de arreglos de *tags* respectivamente. ¿Cuales son las dimensiones de ambas estructuras? ¿Cada dato de ejemplo tiene las mismas dimensiones que el resto?\n",
    "```python\n",
    "dataX,dataY = [],[]\n",
    "#uniques\n",
    "lemmas,labels = set(), set()\n",
    "for fila in dataset.values:\n",
    "    if fila[-1]==\"__START1__\": \n",
    "        dataX.append(np.asarray(sentence))\n",
    "        dataY.append(np.asarray(labels_sentence))\n",
    "        sentence= []\n",
    "        label_sentence = []\n",
    "    lemmas.add(fila[0])\n",
    "    labels.add(fila[1])\n",
    "    sentence.append(fila[0])#add lemma\n",
    "    labels_sentence.append(fila[1]) #POS o TAG\n",
    "#data to  array\n",
    "dataX = np.asarray(dataX[1:])\n",
    "dataY = np.asarray(dataY[1:])\n",
    "```    \n",
    "\n"
   ]
  },
  {
   "cell_type": "code",
   "execution_count": 73,
   "metadata": {},
   "outputs": [
    {
     "data": {
      "text/plain": [
       "array(['thousand', 'NNS', 'O', '__START1__'], dtype=object)"
      ]
     },
     "execution_count": 73,
     "metadata": {},
     "output_type": "execute_result"
    }
   ],
   "source": [
    "dataset.values[0]"
   ]
  },
  {
   "cell_type": "code",
   "execution_count": 74,
   "metadata": {},
   "outputs": [],
   "source": [
    "dataX = []\n",
    "dataY = []\n",
    "lemmas = set()\n",
    "labels = set()\n",
    "sentence= [] \n",
    "l_sentence = [] \n",
    "\n",
    "for datos in dataset.values:\n",
    "    if datos[-1]==\"__START1__\": \n",
    "        dataX.append(np.asarray(sentence)) \n",
    "        dataY.append(np.asarray(l_sentence))\n",
    "        sentence= []  \n",
    "        l_sentence = []\n",
    "    lemmas.add(datos[0])\n",
    "    labels.add(datos[1])\n",
    "    sentence.append(datos[0])\n",
    "    l_sentence.append(datos[1])\n",
    "    \n",
    "dataX = np.asarray(dataX[1:]) \n",
    "dataY = np.asarray(dataY[1:])"
   ]
  },
  {
   "cell_type": "code",
   "execution_count": 75,
   "metadata": {},
   "outputs": [
    {
     "data": {
      "text/plain": [
       "(48081,)"
      ]
     },
     "execution_count": 75,
     "metadata": {},
     "output_type": "execute_result"
    }
   ],
   "source": [
    "dataX.shape"
   ]
  },
  {
   "cell_type": "markdown",
   "metadata": {},
   "source": [
    "> b) Estudie la distribución del largo de los textos a procesar. Estudie también la frecuencia con la que aparecen\n",
    "las palabras en todo el dataset. ¿Se observa una ley Zipf? ¿Cambia el resultado cuando se separan los textos de acuerdo a su clase/categorı́a? Comente.\n",
    "\n"
   ]
  },
  {
   "cell_type": "code",
   "execution_count": 76,
   "metadata": {
    "scrolled": true
   },
   "outputs": [
    {
     "data": {
      "image/png": "[encoded data removed]",
      "text/plain": [
       "<Figure size 720x360 with 2 Axes>"
      ]
     },
     "metadata": {},
     "output_type": "display_data"
    }
   ],
   "source": [
    "import numpy as np\n",
    "import matplotlib.pyplot as plt\n",
    "%matplotlib inline\n",
    "def largo_sentencias(dicc):\n",
    "    largo = []\n",
    "    for sentencia in dicc:\n",
    "        largo.append(len(sentencia))\n",
    "    return largo\n",
    "\n",
    "largo_lemmas = largo_sentencias(dataX)\n",
    "largo_tags = largo_sentencias(dataY)\n",
    "\n",
    "n = 60\n",
    "\n",
    "fig, axes = plt.subplots(nrows=1, ncols=2, figsize=(10,5), sharey=True)\n",
    "a, b  = axes.flatten()\n",
    "\n",
    "a.hist(largo_lemmas, n, facecolor='green', alpha=0.5)\n",
    "a.set_xlabel(\"Largo de sentencias\")\n",
    "a.set_title('Distribución del largo de sentencias (Lemmas)', fontsize=12)\n",
    "\n",
    "\n",
    "b.hist(largo_tags, n, facecolor='green', alpha=0.5)\n",
    "b.set_title('Distribución del largo de sentencias (Pos taggs)', fontsize=12)\n",
    "b.set_xlabel(\"Largo de sentencias\")\n",
    "fig.tight_layout()\n",
    "\n",
    "plt.show()"
   ]
  },
  {
   "cell_type": "code",
   "execution_count": 77,
   "metadata": {},
   "outputs": [
    {
     "data": {
      "image/png": "[encoded data removed]",
      "text/plain": [
       "<Figure size 720x360 with 2 Axes>"
      ]
     },
     "metadata": {},
     "output_type": "display_data"
    }
   ],
   "source": [
    "fig, axes = plt.subplots(nrows=1, ncols=2, figsize=(10,5), sharey=True)\n",
    "a, b  = axes.flatten()\n",
    "\n",
    "a.boxplot(largo_lemmas)\n",
    "a.set_title('Distribución del largo de sentencias (Lemmas)', fontsize=12)\n",
    "\n",
    "\n",
    "b.boxplot(largo_tags)\n",
    "b.set_title('Distribución del largo de sentencias (Pos taggs)', fontsize=12)\n",
    "fig.tight_layout()\n",
    "\n",
    "plt.show()"
   ]
  },
  {
   "cell_type": "markdown",
   "metadata": {},
   "source": [
    "Primero se debe entender que cada lemma en las sentencias tiene su propia etiqueta, por lo que ambas distribuciones deben si o si ser iguales.\n",
    "Se puede denotar como los histogramas siguen una tendencia normal de distribución, centrada aproximadamente en largo 20, es notable que aunque la mayoría del corpus se encuentre dentro de largos aceptable para la distribución, también existen bastantes outliers (por sobre las 45 palabras)."
   ]
  },
  {
   "cell_type": "markdown",
   "metadata": {},
   "source": [
    "La ley de Zipf, es una ley empírica la cual dicta que la frecuencia de aparición de distintas palabras sigue una distribución que puede aproximarse por $P_{n} \\sim \\frac{1}{n^{a}}$, donde Pn representa la frecuencia de la n-ésima palabra más frecuente y el exponente a es un número real positivo, en general ligeramente superior a 1. Esto significa que el segundo elemento se repetirá aproximadamente con una frecuencia de 1/2 de la del primero, el tercer elemento con una frecuencia de 1/3 y así sucesivamente. La ley de Zipf se cumple para la mayoría de los idiomas y también es aplicable en otros ambitos, como por ejemplo la densidad poblacional entre ciudades de un mismo país.\n"
   ]
  },
  {
   "cell_type": "code",
   "execution_count": 78,
   "metadata": {},
   "outputs": [],
   "source": [
    "import operator\n",
    "def frecuencia(dicc):\n",
    "    diccionario = dict()\n",
    "    for sentencia in dicc:\n",
    "        for palabra in sentencia:\n",
    "            if palabra not in diccionario:\n",
    "                diccionario[palabra] = 0\n",
    "            else:\n",
    "                diccionario[palabra] += 1\n",
    "    return diccionario\n",
    "\n",
    "frecuencia_lemmas = frecuencia(dataX)\n",
    "frecuencia_lemmas = sorted(frecuencia_lemmas.items(), key=operator.itemgetter(1))\n",
    "frecuencia_lemmas.reverse()\n",
    "lemmas = []\n",
    "frecuencias = []\n",
    "for par in frecuencia_lemmas:\n",
    "    palabra, numero = par  \n",
    "    lemmas.append(palabra)\n",
    "    frecuencias.append(numero)"
   ]
  },
  {
   "cell_type": "code",
   "execution_count": 79,
   "metadata": {},
   "outputs": [
    {
     "data": {
      "image/png": "[encoded data removed]",
      "text/plain": [
       "<Figure size 720x576 with 1 Axes>"
      ]
     },
     "metadata": {},
     "output_type": "display_data"
    }
   ],
   "source": [
    "import numpy as np\n",
    "import matplotlib.pyplot as plt\n",
    "lemmas_corto = lemmas[:50]\n",
    "frecuenciass = frecuencias[:50]\n",
    "n_lemma = np.arange(len(lemmas_corto))\n",
    "\n",
    "plt.figure(figsize=(10,8))\n",
    "plt.title(\"Prueba Ley de Zipf\", fontsize =20)\n",
    "plt.barh(n_lemma, frecuenciass,align='center')\n",
    "plt.yticks(n_lemma, lemmas_corto) \n",
    "plt.ylabel('Lemmas', fontsize=15)\n",
    "plt.xlabel('Frecuencia', fontsize=15)\n",
    "plt.tight_layout()\n",
    "plt.show()"
   ]
  },
  {
   "cell_type": "code",
   "execution_count": 80,
   "metadata": {},
   "outputs": [
    {
     "name": "stderr",
     "output_type": "stream",
     "text": [
      "/home/casapanshop/anaconda2/envs/py3/lib/python3.5/site-packages/ipykernel/__main__.py:3: RuntimeWarning: divide by zero encountered in log\n",
      "  app.launch_new_instance()\n"
     ]
    },
    {
     "data": {
      "image/png": "[encoded data removed]",
      "text/plain": [
       "<Figure size 720x576 with 1 Axes>"
      ]
     },
     "metadata": {},
     "output_type": "display_data"
    }
   ],
   "source": [
    "import numpy as np\n",
    "import matplotlib.pyplot as plt\n",
    "frecuencias_log = list(map(np.log,frecuencias))\n",
    "n_lemma = np.arange(1,len(lemmas)+1)\n",
    "n_lemma = list(map(np.log,n_lemma))\n",
    "\n",
    "plt.figure(figsize=(10,8))\n",
    "plt.title(\"Prueba Ley de Zipf\", fontsize =20)\n",
    "plt.scatter(frecuencias_log,n_lemma)\n",
    "plt.ylabel('Posición Lemmas (log)', fontsize=15)\n",
    "plt.xlabel('Frecuencia (log)', fontsize=15)\n",
    "plt.tight_layout()\n",
    "plt.show()"
   ]
  },
  {
   "cell_type": "markdown",
   "metadata": {},
   "source": [
    "Se puede notar como la Ley de Zifp está presente en el conjunto de lemmas, si bien no se encuentra perfectamente representada, sobre todo en las colas del gráfico, posiblemente se pueda encontrar una constante que sintonice de buena forma la aproximación."
   ]
  },
  {
   "cell_type": "code",
   "execution_count": 81,
   "metadata": {},
   "outputs": [],
   "source": [
    "frecuencia_tag = frecuencia(dataY)\n",
    "frecuencia_tag = sorted(frecuencia_tag.items(), key=operator.itemgetter(1))\n",
    "frecuencia_tag.reverse()\n",
    "tags = []\n",
    "frecuencias_tags = []\n",
    "for par in frecuencia_tag:\n",
    "    pos, numero = par  \n",
    "    tags.append(pos)\n",
    "    frecuencias_tags.append(numero)"
   ]
  },
  {
   "cell_type": "code",
   "execution_count": 82,
   "metadata": {},
   "outputs": [
    {
     "data": {
      "image/png": "[encoded data removed]",
      "text/plain": [
       "<Figure size 720x576 with 1 Axes>"
      ]
     },
     "metadata": {},
     "output_type": "display_data"
    }
   ],
   "source": [
    "import numpy as np\n",
    "import matplotlib.pyplot as plt\n",
    "tags_corto = tags[:50]\n",
    "frecuencias_tags = frecuencias_tags[:50]\n",
    "n_tags = np.arange(len(tags_corto))\n",
    "\n",
    "plt.figure(figsize=(10,8))\n",
    "plt.title(\"Prueba Ley de Zipf Pos-Taggers\", fontsize =20)\n",
    "plt.barh(n_tags, frecuencias_tags,align='center')\n",
    "plt.yticks(n_tags, tags_corto) \n",
    "plt.ylabel('Pos-Taggers', fontsize=15)\n",
    "plt.xlabel('Frecuencia', fontsize=15)\n",
    "plt.tight_layout()\n",
    "plt.show()"
   ]
  },
  {
   "cell_type": "code",
   "execution_count": 83,
   "metadata": {},
   "outputs": [
    {
     "data": {
      "image/png": "[encoded data removed]",
      "text/plain": [
       "<Figure size 720x576 with 1 Axes>"
      ]
     },
     "metadata": {},
     "output_type": "display_data"
    }
   ],
   "source": [
    "import numpy as np\n",
    "import matplotlib.pyplot as plt\n",
    "\n",
    "frecuencia_tag = frecuencia(dataY)\n",
    "frecuencia_tag = sorted(frecuencia_tag.items(), key=operator.itemgetter(1))\n",
    "frecuencia_tag.reverse()\n",
    "tags = []\n",
    "frecuencias_tags = []\n",
    "for par in frecuencia_tag:\n",
    "    pos, numero = par  \n",
    "    tags.append(pos)\n",
    "    frecuencias_tags.append(numero)\n",
    "\n",
    "frecuencias_tags = list(map(np.log, frecuencias_tags))\n",
    "n_tags = np.arange(1,len(tags)+1)\n",
    "n_tags = list(map(np.log, n_tags))\n",
    "\n",
    "plt.figure(figsize=(10,8))\n",
    "plt.title(\"Prueba Ley de Zipf Pos-Taggers\", fontsize =20)\n",
    "plt.scatter(frecuencias_tags,n_tags)\n",
    "plt.ylabel('Posición Pos-Taggers (log)', fontsize=15)\n",
    "plt.xlabel('Frecuencia (log)', fontsize=15)\n",
    "plt.tight_layout()\n",
    "plt.show()"
   ]
  },
  {
   "cell_type": "markdown",
   "metadata": {},
   "source": [
    "Para el caso de los Pos-taggers difícilmente se puede hayar la correlación que lleva a la Ley de Zifp, puesto que en el gráfico anterior no se puede encontrar una tendencía de comportamiento lineal entre el el logaritmo del ranking y el logaritmo de la frecuencia de cada pos-tagger.\n"
   ]
  },
  {
   "cell_type": "markdown",
   "metadata": {},
   "source": [
    "> c) Es necesario transformar los textos para que puedan ser entregados apropiadamente a la red, por lo será necesario crear una función que codifique cada posible *lemma* a un número y cada posible *tag* a otro número, utilice esta función sobre las sentencias y *tags* ya generados. Mida cual es el largo máximo de entre todas las sentencias, la cantidad de *lemmas* y etiquetas. Además de esto, debido al largo distinto de las sentencias se deberá realizar *padding* para estandarizar el largo, considere algun carácter especial para codificar el espacio en blanco que luego se le deberá rellenar, por ejemplo si el largo máximo es de 4 y se tiene la sentencia \"the rocket\" codificada como [32,4] será necesario agregar un *lemma* que codificado significará el fin de la sentencia \"the rocket *ENDPAD ENDPAD*\" y codificado quedará como [32,4,*0, 0*].\n",
    "```python\n",
    "...#add fullfill lemma and tag to the dictionary\n",
    "lemma2idx = {w: i for i, w in enumerate(lemmas)} #Converting text to numbers\n",
    "lab2idx = {t: i for i, t in enumerate(labels)}\n",
    "dataX = [[lemma2idx[lemma] for lemma in sentence ] for sentence in dataX]\n",
    "dataY = [[lab2idx[pos] for pos in pos_tags ] for pos_tags in dataY]\n",
    "n_lemmas = len(lemmas)\n",
    "n_labels = len(labels)\n",
    "```\n",
    "\n"
   ]
  },
  {
   "cell_type": "markdown",
   "metadata": {},
   "source": [
    "El carácter de padding tanto para Lemmas como para Pos-taggers será $. El padding se realizará al final de la oración en caso de ser necesario."
   ]
  },
  {
   "cell_type": "code",
   "execution_count": 84,
   "metadata": {},
   "outputs": [
    {
     "name": "stdout",
     "output_type": "stream",
     "text": [
      "Cantidad de lemmas 20244\n",
      "Cantidad de pos-tags 42\n"
     ]
    }
   ],
   "source": [
    "lemmas.append('$')\n",
    "tags.append('$')\n",
    "lemma2idx = {w: i for i, w in enumerate(lemmas)} #Converting text to numbers\n",
    "lab2idx = {t: i for i, t in enumerate(tags)}\n",
    "dataX = [[lemma2idx[lemma] for lemma in sentence ] for sentence in dataX]\n",
    "dataY = [[lab2idx[pos] for pos in pos_tags ] for pos_tags in dataY]\n",
    "n_lemmas = len(lemmas)\n",
    "n_labels = len(tags)\n",
    "print(\"Cantidad de lemmas \"+str(n_lemmas))\n",
    "print(\"Cantidad de pos-tags \"+str(n_labels))"
   ]
  },
  {
   "cell_type": "markdown",
   "metadata": {},
   "source": [
    "La cantidad de Lemmas y Pos-taggers con significado es uno menos que los números que se pueden apreciar arriba, ya que se está contando el carácter $ como uno válido.\n",
    "\n",
    "Cantidad de lemmas con significado: 20243\n",
    "\n",
    "Cantidad de pos-taggers con significado: 41"
   ]
  },
  {
   "cell_type": "markdown",
   "metadata": {},
   "source": [
    "> d) Realice el *padding* anteriormente mencionado, decida sobre qué le parece mas conveniente al rellenar con el valor especial ¿Al principio o al final de la sentencia? Comente\n",
    "```python\n",
    "from keras.preprocessing import sequence\n",
    "X = sequence.pad_sequences(dataX,maxlen=max_input_lenght,padding='post' or 'pre',value=lemma2idx[\"yourspecialcharacter\"]) \n",
    "y = sequence.pad_sequences(dataY,maxlen=max_input_lenght,padding='post' or 'pre',value=lab2idx[\"endtagger\"])\n",
    "```\n",
    "\n"
   ]
  },
  {
   "cell_type": "markdown",
   "metadata": {},
   "source": [
    "En este caso se utilizará pre-padding, ya que para el entrenamiento de LSTM es la forma usual.\n",
    "\n",
    "Además como la lectura de la información es de izquierda a derecha, es preferible que primero lea el padding, que no aportará información, ya que si se hiciera al contrario leer grandes espacios de no-información, luego de haber rescatado lo relevante en la sentencia puede tener efectos adversos."
   ]
  },
  {
   "cell_type": "code",
   "execution_count": 85,
   "metadata": {},
   "outputs": [],
   "source": [
    "from keras.preprocessing import sequence\n",
    "def encontrar_max_len(datos):\n",
    "    maximo = 0\n",
    "    for dato in datos:\n",
    "        if len(dato)>maximo:\n",
    "            maximo = len(dato)\n",
    "    return maximo\n",
    "\n",
    "max_input_lenght = encontrar_max_len(dataX)\n",
    "\n",
    "X = sequence.pad_sequences(dataX,maxlen=max_input_lenght,padding='pre',value=lemma2idx['$']) \n",
    "y = sequence.pad_sequences(dataY,maxlen=max_input_lenght,padding='pre',value=lab2idx['$'])"
   ]
  },
  {
   "cell_type": "markdown",
   "metadata": {},
   "source": [
    "> e) Para el poder entregar una clasificación sobre los distintos *pos tagger* es necesario tranformarlas a *one hot vectors*, debido a que están codificadas en números enteros, con esto se quedará con un arreglo tridimensional con la cantidad de ejemplos, la cantidad máxima de palabras y la cantidad de posibles *pos tags*. Luego de esto cree los conjuntos de entrenamiento y de prueba con el código a continuación ¿Cuáles son las dimensiones de entrada y salida de cada conjunto? Comente\n",
    "```python\n",
    "from keras.utils import to_categorical\n",
    "y = np.asarray([to_categorical(i, num_classes=n_labels) for i in y])\n",
    "from sklearn.model_selection import train_test_split\n",
    "X_train, X_test, y_train, y_test = train_test_split(X, y, test_size=0.3,random_state=22)\n",
    "```\n",
    "\n"
   ]
  },
  {
   "cell_type": "code",
   "execution_count": 86,
   "metadata": {},
   "outputs": [],
   "source": [
    "from keras.utils import to_categorical\n",
    "y = np.asarray([to_categorical(i, num_classes=n_labels) for i in y])\n",
    "from sklearn.model_selection import train_test_split\n",
    "X_train, X_test, y_train, y_test = train_test_split(X, y, test_size=0.3,random_state=22)\n"
   ]
  },
  {
   "cell_type": "code",
   "execution_count": 88,
   "metadata": {},
   "outputs": [
    {
     "name": "stdout",
     "output_type": "stream",
     "text": [
      "Las dimensiones de entrada para entrenamiento es (33656, 81)\n",
      "Las dimensiones de entrada para prueba es (14425, 81)\n",
      "Las dimensiones de salida para entrenamiento es (33656, 81, 42)\n",
      "Las dimensiones de salida para prueba es (14425, 81, 42)\n"
     ]
    }
   ],
   "source": [
    "print(\"Las dimensiones de entrada para entrenamiento es \"+str(X_train.shape))\n",
    "print(\"Las dimensiones de entrada para prueba es \"+str(X_test.shape))\n",
    "print(\"Las dimensiones de salida para entrenamiento es \"+str(y_train.shape))\n",
    "print(\"Las dimensiones de salida para prueba es \"+str(y_test.shape))"
   ]
  },
  {
   "cell_type": "markdown",
   "metadata": {},
   "source": [
    "Con esto se puede ver fácilmente que los conjuntos de entrada corresponden a 33656 sentencias para el conjunto de entrenamiento y 14425 para validación, todas con un largo igual a 81 (gracias al padding), mientras que los conjuntos de salida agregan una dimensión extra donde se almacena el one-hot-vector correspondiente a la clase (42 posibles pos-taggers) de cada palabra en las sentencias."
   ]
  },
  {
   "cell_type": "markdown",
   "metadata": {},
   "source": [
    "> f) Defina una red neuronal recurrente *many to many* con compuertas LSTM para aprender a *tagear* el texto, entrenela y evalúe su desempeño sobre ambos conjuntos. Esta red debe procesar la secuencia de *lemmas* rellenados (o sin rellenar) y entregar el *pos tag* a cada uno de estos *lemmas*, por lo que la salida de la red no es un vector como anteriormente se ha trabajado, sino que tiene una dimensión extra la cual es debido a que en cada instante de tiempo se necesita entregar un *output*. Como los *lemmas* corresponden a datos esencialmente categóricos, o al menos discretos, es necesario generar una representación vectorial de ellas. La primera capa de la red a construir debe por lo tanto incluir una transformación entrenable desde el espacio de representación original (discreto) a ${\\rm I\\!R}^{d}$ , con $d$ la dimensionalidad del *embedding*. Comente sobre los cambios que sufre un dato al ingresar a la red y la cantidad de parámetros de la red.\n",
    "```python\n",
    "from keras.models import Sequential\n",
    "from keras.layers import LSTM, Embedding, Dense, Dropout\n",
    "embedding_vector = 32\n",
    "model = Sequential()\n",
    "model.add(Embedding(input_dim=n_lemmas, output_dim=embedding_vector, input_length=max_input_lenght))\n",
    "model.add(LSTM(units=100,return_sequences=True))\n",
    "model.add(Dense(n_labels, activation='softmax'))\n",
    "model.summary()\n",
    "model.compile(loss='categorical_crossentropy', optimizer='adam', metrics=['accuracy'])\n",
    "model.fit(X_train, y_train, validation_data=(X_test, y_test), nb_epoch=3, batch_size=128)\n",
    "scores = model.evaluate(X_test, y_test, verbose=0)\n",
    "```\n",
    "\n"
   ]
  },
  {
   "cell_type": "code",
   "execution_count": 61,
   "metadata": {},
   "outputs": [
    {
     "name": "stdout",
     "output_type": "stream",
     "text": [
      "_________________________________________________________________\n",
      "Layer (type)                 Output Shape              Param #   \n",
      "=================================================================\n",
      "embedding_1 (Embedding)      (None, 81, 32)            647808    \n",
      "_________________________________________________________________\n",
      "lstm_1 (LSTM)                (None, 81, 100)           53200     \n",
      "_________________________________________________________________\n",
      "dense_1 (Dense)              (None, 81, 42)            4242      \n",
      "=================================================================\n",
      "Total params: 705,250\n",
      "Trainable params: 705,250\n",
      "Non-trainable params: 0\n",
      "_________________________________________________________________\n"
     ]
    },
    {
     "name": "stderr",
     "output_type": "stream",
     "text": [
      "/home/casapanshop/anaconda2/envs/py3/lib/python3.5/site-packages/ipykernel/__main__.py:10: UserWarning: The `nb_epoch` argument in `fit` has been renamed `epochs`.\n"
     ]
    },
    {
     "name": "stdout",
     "output_type": "stream",
     "text": [
      "Train on 33656 samples, validate on 14425 samples\n",
      "Epoch 1/3\n",
      "33656/33656 [==============================] - 57s 2ms/step - loss: 1.1146 - acc: 0.7533 - val_loss: 0.7431 - val_acc: 0.7998\n",
      "Epoch 2/3\n",
      "33656/33656 [==============================] - 55s 2ms/step - loss: 0.5324 - acc: 0.8551 - val_loss: 0.3376 - val_acc: 0.9060\n",
      "Epoch 3/3\n",
      "33656/33656 [==============================] - 55s 2ms/step - loss: 0.2287 - acc: 0.9390 - val_loss: 0.1585 - val_acc: 0.9575\n"
     ]
    }
   ],
   "source": [
    "from keras.models import Sequential\n",
    "from keras.layers import LSTM, Embedding, Dense, Dropout\n",
    "embedding_vector = 32\n",
    "model = Sequential()\n",
    "model.add(Embedding(input_dim=n_lemmas, output_dim=embedding_vector, input_length=max_input_lenght))\n",
    "model.add(LSTM(units=100,return_sequences=True))\n",
    "model.add(Dense(n_labels, activation='softmax'))\n",
    "model.summary()\n",
    "model.compile(loss='categorical_crossentropy', optimizer='adam', metrics=['accuracy'])\n",
    "history = model.fit(X_train, y_train, validation_data=(X_test, y_test), nb_epoch=3, batch_size=128)\n",
    "scores = model.evaluate(X_test, y_test, verbose=0)"
   ]
  },
  {
   "cell_type": "code",
   "execution_count": 64,
   "metadata": {},
   "outputs": [
    {
     "name": "stdout",
     "output_type": "stream",
     "text": [
      "Loss-Validación del modelo: 0.1585499752931413\n",
      "Accuracy-Validación del modelo: 0.9574983421314114\n"
     ]
    },
    {
     "data": {
      "image/png": "[encoded data removed]",
      "text/plain": [
       "<Figure size 720x360 with 2 Axes>"
      ]
     },
     "metadata": {},
     "output_type": "display_data"
    }
   ],
   "source": [
    "print(\"Loss-Validación del modelo: \"+str(scores[0]))\n",
    "print(\"Accuracy-Validación del modelo: \"+str(scores[1]))\n",
    "import matplotlib.pyplot as plt\n",
    "import numpy\n",
    "\n",
    "fig, axes = plt.subplots(nrows=1, ncols=2, figsize=(10,5), sharey=True)\n",
    "a, b  = axes.flatten()\n",
    "\n",
    "\n",
    "a.plot(history.history['acc'])\n",
    "a.plot(history.history['val_acc'])\n",
    "a.set_title('model accuracy')\n",
    "a.set_ylabel('accuracy')\n",
    "a.set_xlabel('epoch')\n",
    "a.legend(['train', 'val'], loc='upper left')\n",
    "\n",
    "\n",
    "b.plot(history.history['loss'])\n",
    "b.plot(history.history['val_loss'])\n",
    "b.set_title('model loss')\n",
    "b.set_ylabel('loss')\n",
    "b.set_xlabel('epoch')\n",
    "b.legend(['train', 'val'], loc='upper left')\n",
    "fig.tight_layout()\n",
    "\n",
    "plt.show()\n"
   ]
  },
  {
   "cell_type": "markdown",
   "metadata": {},
   "source": [
    "Layer (type)                 Output Shape              Param #   \n",
    "_________________________________________________________________\n",
    "embedding_1 (Embedding)      (None, 81, 32)            647808    \n",
    "_________________________________________________________________\n",
    "lstm_1 (LSTM)                (None, 81, 100)           53200     \n",
    "_________________________________________________________________\n",
    "dense_1 (Dense)              (None, 81, 42)            4242      \n",
    "\n",
    "Total params: 705,250//\n",
    "Trainable params: 705,250//\n",
    "Non-trainable params: 0\n",
    "\n",
    "\n",
    "La capa de embedding en este caso multiplicará la cantidad de palabras por el tamaño del vector de embedding, ya que tenemos sobre 20000 palabras y el tamaño del embedding es 32, hace sentido que la primera capa del modelo tenga 647808 parámetros entrenables, lo que si bien suena bastante en un principio, al compararlo con la cantidad de textos y la cantidad de palabras por texto que se tiene en el conjunto de entrenamiento no debería presentar un grave problema.\n",
    "Luego la capa de LSTM es recurrente lo que explica que tenga muchos menos parámetros que la capa anterior, por último la capa de salida es una capa densa que entregará la clasificación de las palabras en cada sentencia.\n",
    "\n",
    "Como se dijo anteriormente la cantidad de parámetros entrenables en realidad no es una gran inconveniencia en comparación con el conjunto de entrenamiento, queda bastante claro si se analizan los gráficos de Loss y Accuracy del modelo, llegando a un 0,95 de accuracy después de solo tres epochs.\n",
    "\n",
    "Se puede decir que el modelo es muy capaz de generalizar, ya que en el conjunto de validación tiene mejores resultados que en el de entrenamiento, pero no tanto como para ser llamado <i>underfitting</i>.\n"
   ]
  },
  {
   "cell_type": "markdown",
   "metadata": {},
   "source": [
    "> g) Varı́e la dimensionalidad del embedding inicial y determine si aumenta o disminuye el error de clasificación. Comente.\n",
    "\n"
   ]
  },
  {
   "cell_type": "code",
   "execution_count": 65,
   "metadata": {},
   "outputs": [
    {
     "name": "stdout",
     "output_type": "stream",
     "text": [
      "_________________________________________________________________\n",
      "Layer (type)                 Output Shape              Param #   \n",
      "=================================================================\n",
      "embedding_2 (Embedding)      (None, 81, 2)             40488     \n",
      "_________________________________________________________________\n",
      "lstm_2 (LSTM)                (None, 81, 100)           41200     \n",
      "_________________________________________________________________\n",
      "dense_2 (Dense)              (None, 81, 42)            4242      \n",
      "=================================================================\n",
      "Total params: 85,930\n",
      "Trainable params: 85,930\n",
      "Non-trainable params: 0\n",
      "_________________________________________________________________\n"
     ]
    },
    {
     "name": "stderr",
     "output_type": "stream",
     "text": [
      "/home/casapanshop/anaconda2/envs/py3/lib/python3.5/site-packages/ipykernel/__main__.py:12: UserWarning: The `nb_epoch` argument in `fit` has been renamed `epochs`.\n"
     ]
    },
    {
     "name": "stdout",
     "output_type": "stream",
     "text": [
      "Train on 33656 samples, validate on 14425 samples\n",
      "Epoch 1/3\n",
      "33656/33656 [==============================] - 58s 2ms/step - loss: 1.4060 - acc: 0.7371 - val_loss: 0.9308 - val_acc: 0.7570\n",
      "Epoch 2/3\n",
      "33656/33656 [==============================] - 56s 2ms/step - loss: 0.8432 - acc: 0.7663 - val_loss: 0.7936 - val_acc: 0.7703\n",
      "Epoch 3/3\n",
      "33656/33656 [==============================] - 56s 2ms/step - loss: 0.7232 - acc: 0.8069 - val_loss: 0.6332 - val_acc: 0.8357\n",
      "[2] Loss-Validación del modelo: 0.6331936817772467\n",
      "[2] Accuracy-Validación del modelo: 0.8357001943274222\n",
      "_________________________________________________________________\n",
      "Layer (type)                 Output Shape              Param #   \n",
      "=================================================================\n",
      "embedding_3 (Embedding)      (None, 81, 4)             80976     \n",
      "_________________________________________________________________\n",
      "lstm_3 (LSTM)                (None, 81, 100)           42000     \n",
      "_________________________________________________________________\n",
      "dense_3 (Dense)              (None, 81, 42)            4242      \n",
      "=================================================================\n",
      "Total params: 127,218\n",
      "Trainable params: 127,218\n",
      "Non-trainable params: 0\n",
      "_________________________________________________________________\n",
      "Train on 33656 samples, validate on 14425 samples\n",
      "Epoch 1/3\n",
      "33656/33656 [==============================] - 57s 2ms/step - loss: 1.3025 - acc: 0.7416 - val_loss: 0.8644 - val_acc: 0.7661\n",
      "Epoch 2/3\n",
      "33656/33656 [==============================] - 55s 2ms/step - loss: 0.7853 - acc: 0.7894 - val_loss: 0.6973 - val_acc: 0.8050\n",
      "Epoch 3/3\n",
      "33656/33656 [==============================] - 55s 2ms/step - loss: 0.5982 - acc: 0.8216 - val_loss: 0.5226 - val_acc: 0.8351\n",
      "[4] Loss-Validación del modelo: 0.5225899491690267\n",
      "[4] Accuracy-Validación del modelo: 0.8350993860738942\n",
      "_________________________________________________________________\n",
      "Layer (type)                 Output Shape              Param #   \n",
      "=================================================================\n",
      "embedding_4 (Embedding)      (None, 81, 8)             161952    \n",
      "_________________________________________________________________\n",
      "lstm_4 (LSTM)                (None, 81, 100)           43600     \n",
      "_________________________________________________________________\n",
      "dense_4 (Dense)              (None, 81, 42)            4242      \n",
      "=================================================================\n",
      "Total params: 209,794\n",
      "Trainable params: 209,794\n",
      "Non-trainable params: 0\n",
      "_________________________________________________________________\n",
      "Train on 33656 samples, validate on 14425 samples\n",
      "Epoch 1/3\n",
      "33656/33656 [==============================] - 57s 2ms/step - loss: 1.3031 - acc: 0.7400 - val_loss: 0.8282 - val_acc: 0.7667\n",
      "Epoch 2/3\n",
      "33656/33656 [==============================] - 55s 2ms/step - loss: 0.7370 - acc: 0.8002 - val_loss: 0.6203 - val_acc: 0.8287\n",
      "Epoch 3/3\n",
      "33656/33656 [==============================] - 55s 2ms/step - loss: 0.5339 - acc: 0.8409 - val_loss: 0.4673 - val_acc: 0.8559\n",
      "[8] Loss-Validación del modelo: 0.4673008762984383\n",
      "[8] Accuracy-Validación del modelo: 0.8558572431081709\n",
      "_________________________________________________________________\n",
      "Layer (type)                 Output Shape              Param #   \n",
      "=================================================================\n",
      "embedding_5 (Embedding)      (None, 81, 16)            323904    \n",
      "_________________________________________________________________\n",
      "lstm_5 (LSTM)                (None, 81, 100)           46800     \n",
      "_________________________________________________________________\n",
      "dense_5 (Dense)              (None, 81, 42)            4242      \n",
      "=================================================================\n",
      "Total params: 374,946\n",
      "Trainable params: 374,946\n",
      "Non-trainable params: 0\n",
      "_________________________________________________________________\n",
      "Train on 33656 samples, validate on 14425 samples\n",
      "Epoch 1/3\n",
      "33656/33656 [==============================] - 57s 2ms/step - loss: 1.1829 - acc: 0.7493 - val_loss: 0.7921 - val_acc: 0.7748\n",
      "Epoch 2/3\n",
      "33656/33656 [==============================] - 55s 2ms/step - loss: 0.6668 - acc: 0.8058 - val_loss: 0.5393 - val_acc: 0.8316\n",
      "Epoch 3/3\n",
      "33656/33656 [==============================] - 55s 2ms/step - loss: 0.4033 - acc: 0.8828 - val_loss: 0.2776 - val_acc: 0.9259\n",
      "[16] Loss-Validación del modelo: 0.27759546919753275\n",
      "[16] Accuracy-Validación del modelo: 0.9258523220288691\n",
      "_________________________________________________________________\n",
      "Layer (type)                 Output Shape              Param #   \n",
      "=================================================================\n",
      "embedding_6 (Embedding)      (None, 81, 32)            647808    \n",
      "_________________________________________________________________\n",
      "lstm_6 (LSTM)                (None, 81, 100)           53200     \n",
      "_________________________________________________________________\n",
      "dense_6 (Dense)              (None, 81, 42)            4242      \n",
      "=================================================================\n",
      "Total params: 705,250\n",
      "Trainable params: 705,250\n",
      "Non-trainable params: 0\n",
      "_________________________________________________________________\n",
      "Train on 33656 samples, validate on 14425 samples\n",
      "Epoch 1/3\n",
      "33656/33656 [==============================] - 58s 2ms/step - loss: 1.1134 - acc: 0.7537 - val_loss: 0.7201 - val_acc: 0.7957\n",
      "Epoch 2/3\n",
      "33656/33656 [==============================] - 56s 2ms/step - loss: 0.5209 - acc: 0.8518 - val_loss: 0.3497 - val_acc: 0.9061\n",
      "Epoch 3/3\n",
      "33656/33656 [==============================] - 56s 2ms/step - loss: 0.2374 - acc: 0.9398 - val_loss: 0.1640 - val_acc: 0.9563\n",
      "[32] Loss-Validación del modelo: 0.16395041875967326\n",
      "[32] Accuracy-Validación del modelo: 0.9562907320911798\n",
      "_________________________________________________________________\n",
      "Layer (type)                 Output Shape              Param #   \n",
      "=================================================================\n",
      "embedding_7 (Embedding)      (None, 81, 64)            1295616   \n",
      "_________________________________________________________________\n",
      "lstm_7 (LSTM)                (None, 81, 100)           66000     \n",
      "_________________________________________________________________\n",
      "dense_7 (Dense)              (None, 81, 42)            4242      \n",
      "=================================================================\n",
      "Total params: 1,365,858\n",
      "Trainable params: 1,365,858\n",
      "Non-trainable params: 0\n",
      "_________________________________________________________________\n",
      "Train on 33656 samples, validate on 14425 samples\n",
      "Epoch 1/3\n",
      "33656/33656 [==============================] - 58s 2ms/step - loss: 1.0305 - acc: 0.7715 - val_loss: 0.6249 - val_acc: 0.8329\n",
      "Epoch 2/3\n",
      "33656/33656 [==============================] - 56s 2ms/step - loss: 0.3802 - acc: 0.8995 - val_loss: 0.2033 - val_acc: 0.9497\n",
      "Epoch 3/3\n",
      "33656/33656 [==============================] - 56s 2ms/step - loss: 0.1440 - acc: 0.9613 - val_loss: 0.1167 - val_acc: 0.9662\n",
      "[64] Loss-Validación del modelo: 0.11674731547952318\n",
      "[64] Accuracy-Validación del modelo: 0.9662383118369964\n"
     ]
    }
   ],
   "source": [
    "from keras.models import Sequential\n",
    "from keras.layers import LSTM, Embedding, Dense, Dropout\n",
    "#VARIAR ESTO\n",
    "embedding_vectors = [2,4,8,16,32,64]\n",
    "for embedding_vector in embedding_vectors:\n",
    "    model = Sequential()\n",
    "    model.add(Embedding(input_dim=n_lemmas, output_dim=embedding_vector, input_length=max_input_lenght))\n",
    "    model.add(LSTM(units=100,return_sequences=True))\n",
    "    model.add(Dense(n_labels, activation='softmax'))\n",
    "    model.summary()\n",
    "    model.compile(loss='categorical_crossentropy', optimizer='adam', metrics=['accuracy'])\n",
    "    model.fit(X_train, y_train, validation_data=(X_test, y_test), nb_epoch=3, batch_size=128)\n",
    "    scores = model.evaluate(X_test, y_test, verbose=0)\n",
    "    print(\"[\"+str(embedding_vector)+\"] Loss-Validación del modelo: \"+str(scores[0]))\n",
    "    print(\"[\"+str(embedding_vector)+\"] Accuracy-Validación del modelo: \"+str(scores[1]))"
   ]
  },
  {
   "cell_type": "markdown",
   "metadata": {},
   "source": [
    "Para el ejercicio se varió el tamaño del vector de embedding en potencias de 2, es decir, con tamaños 2,4,8,16,32 y 64, no se siguió experimentando con números mayores por la capacidad computacional-memoria que demanda el ejercicio.\n",
    "\n",
    "Después de haberlos entrenado todos y calculado sus <i>scores</i> de Loss-Validación y Accuraccy-Validación se puede ver que a medida que se aumentó el tamaño del embedding también fue aumentando la capacidad de predicción de los modelos. Claramente llegará un punto de quiebre en este comportamiento, cuando los parámetros sean los suficientes como para que el conjunto de entrenamiento ya no baste para ajustarlos de buena manera, pero en lo que respecta al ejercicio realizado se declarará al vector de tamaño 64 como el mejor para este proposito."
   ]
  },
  {
   "cell_type": "markdown",
   "metadata": {},
   "source": [
    "> h) Use Dropout para entrenar la LSTM. ¿El Dropout mejora el desempeño de la red? Señale cuales podrı́an ser las causas del comportamiento observado.\n",
    "```python\n",
    "from keras.layers import Dropout\n",
    "model = Sequential()\n",
    "model.add(Embedding(input_dim=n_lemmas, output_dim=embedding_vector, input_length=max_input_lenght))\n",
    "model.add(LSTM(units=100,return_sequences=True)) #or recurrent_dropout=0.2\n",
    "model.add(Dropout(0.2))\n",
    "model.add(Dense(n_labels, activation='softmax'))\n",
    "model.compile(loss='categorical_crossentropy', optimizer='adam', metrics=['accuracy'])\n",
    "model.fit(X_train, y_train, validation_data=(X_test, y_test), nb_epoch=3, batch_size=128)\n",
    "```\n",
    "\n",
    ">"
   ]
  },
  {
   "cell_type": "code",
   "execution_count": 66,
   "metadata": {},
   "outputs": [
    {
     "name": "stderr",
     "output_type": "stream",
     "text": [
      "/home/casapanshop/anaconda2/envs/py3/lib/python3.5/site-packages/ipykernel/__main__.py:10: UserWarning: The `nb_epoch` argument in `fit` has been renamed `epochs`.\n"
     ]
    },
    {
     "name": "stdout",
     "output_type": "stream",
     "text": [
      "Train on 33656 samples, validate on 14425 samples\n",
      "Epoch 1/3\n",
      "33656/33656 [==============================] - 58s 2ms/step - loss: 1.0512 - acc: 0.7661 - val_loss: 0.5718 - val_acc: 0.8464\n",
      "Epoch 2/3\n",
      "33656/33656 [==============================] - 56s 2ms/step - loss: 0.3641 - acc: 0.8999 - val_loss: 0.2192 - val_acc: 0.9430\n",
      "Epoch 3/3\n",
      "33656/33656 [==============================] - 56s 2ms/step - loss: 0.1679 - acc: 0.9551 - val_loss: 0.1254 - val_acc: 0.9639\n"
     ]
    }
   ],
   "source": [
    "from keras.layers import Dropout\n",
    "\n",
    "embedding_vector = 64\n",
    "model = Sequential()\n",
    "model.add(Embedding(input_dim=n_lemmas, output_dim=embedding_vector, input_length=max_input_lenght))\n",
    "model.add(LSTM(units=100,return_sequences=True)) #or recurrent_dropout=0.2\n",
    "model.add(Dropout(0.2))\n",
    "model.add(Dense(n_labels, activation='softmax'))\n",
    "model.compile(loss='categorical_crossentropy', optimizer='adam', metrics=['accuracy'])\n",
    "history = model.fit(X_train, y_train, validation_data=(X_test, y_test), nb_epoch=3, batch_size=128)"
   ]
  },
  {
   "cell_type": "code",
   "execution_count": 67,
   "metadata": {},
   "outputs": [
    {
     "data": {
      "image/png": "[encoded data removed]",
      "text/plain": [
       "<Figure size 720x360 with 2 Axes>"
      ]
     },
     "metadata": {},
     "output_type": "display_data"
    }
   ],
   "source": [
    "import matplotlib.pyplot as plt\n",
    "import numpy\n",
    "fig, axes = plt.subplots(nrows=1, ncols=2, figsize=(10,5), sharey=True)\n",
    "a, b  = axes.flatten()\n",
    "\n",
    "\n",
    "a.plot(history.history['acc'])\n",
    "a.plot(history.history['val_acc'])\n",
    "a.set_title('model accuracy')\n",
    "a.set_ylabel('accuracy')\n",
    "a.set_xlabel('epoch')\n",
    "a.legend(['train', 'val'], loc='upper left')\n",
    "\n",
    "\n",
    "b.plot(history.history['loss'])\n",
    "b.plot(history.history['val_loss'])\n",
    "b.set_title('model loss')\n",
    "b.set_ylabel('loss')\n",
    "b.set_xlabel('epoch')\n",
    "b.legend(['train', 'val'], loc='upper left')\n",
    "fig.tight_layout()\n",
    "\n",
    "plt.show()\n"
   ]
  },
  {
   "cell_type": "markdown",
   "metadata": {},
   "source": [
    "En este caso Dropout no fue de ayuda para mejorar el comportamiento del modelo, de hecho lo empeoró marginalmente tanto en entrenamiento como en validación. \n",
    "Esto puede deberse a que hasta el momento no habían comportamientos de sobre-ajuste o sub-ajuste en el modelo (actuando mejor en validación que en entrenamiento) lo que elimina la necesidad de aplicar un Dropout entre las capas."
   ]
  },
  {
   "cell_type": "markdown",
   "metadata": {},
   "source": [
    "> i) Algunos autores señalan la importante dependencia que existe en texto, no solo con las palabras anteriores, sino que con las que siguen. Mejore la red definida en f) utilizando una red neuronal recurrente Bidireccional, es decir, con recurrencia en ambas direcciones sobre la secuencia de *lemmas* de entrada. Comente cuál debiera ser la forma correcta de usar el parámetro *merge_mode* (concatenar, multiplicar, sumar o promediar) para este caso. Además comente las transformaciones que sufre el patrón de entrada al pasar por las capas. ¿Mejora o empeora el desempeño? Analice.\n",
    "```python\n",
    "from keras.layers import Bidirectional\n",
    "model = Sequential()\n",
    "model.add(Embedding(input_dim=n_lemmas, output_dim=embedding_vector, input_length=max_input_lenght))\n",
    "layer_lstm = LSTM(units=100,return_sequences=True)\n",
    "model.add(Bidirectional(layer_lstm,merge_mode=choose))\n",
    "model.add(Dense(n_labels, activation='softmax'))\n",
    "model.summary()\n",
    "model.compile(loss='categorical_crossentropy', optimizer='adam', metrics=['accuracy'])\n",
    "model.fit(X_train, y_train, validation_data=(X_test, y_test), nb_epoch=3, batch_size=128)\n",
    "```\n",
    "\n"
   ]
  },
  {
   "cell_type": "code",
   "execution_count": 68,
   "metadata": {},
   "outputs": [
    {
     "name": "stdout",
     "output_type": "stream",
     "text": [
      "_________________________________________________________________\n",
      "Layer (type)                 Output Shape              Param #   \n",
      "=================================================================\n",
      "embedding_9 (Embedding)      (None, 81, 64)            1295616   \n",
      "_________________________________________________________________\n",
      "bidirectional_1 (Bidirection (None, 81, 100)           132000    \n",
      "_________________________________________________________________\n",
      "dense_9 (Dense)              (None, 81, 42)            4242      \n",
      "=================================================================\n",
      "Total params: 1,431,858\n",
      "Trainable params: 1,431,858\n",
      "Non-trainable params: 0\n",
      "_________________________________________________________________\n"
     ]
    },
    {
     "name": "stderr",
     "output_type": "stream",
     "text": [
      "/home/casapanshop/anaconda2/envs/py3/lib/python3.5/site-packages/ipykernel/__main__.py:12: UserWarning: The `nb_epoch` argument in `fit` has been renamed `epochs`.\n"
     ]
    },
    {
     "name": "stdout",
     "output_type": "stream",
     "text": [
      "Train on 33656 samples, validate on 14425 samples\n",
      "Epoch 1/3\n",
      "33656/33656 [==============================] - 101s 3ms/step - loss: 1.0101 - acc: 0.7473 - val_loss: 0.7546 - val_acc: 0.7729\n",
      "Epoch 2/3\n",
      "33656/33656 [==============================] - 98s 3ms/step - loss: 0.5525 - acc: 0.8532 - val_loss: 0.3012 - val_acc: 0.9273\n",
      "Epoch 3/3\n",
      "33656/33656 [==============================] - 97s 3ms/step - loss: 0.1846 - acc: 0.9537 - val_loss: 0.1261 - val_acc: 0.9645\n"
     ]
    }
   ],
   "source": [
    "from keras.layers import Bidirectional\n",
    "from keras.models import Sequential\n",
    "from keras.layers import LSTM, Embedding, Dense, Dropout\n",
    "embedding_vector = 64\n",
    "model = Sequential()\n",
    "model.add(Embedding(input_dim=n_lemmas, output_dim=embedding_vector, input_length=max_input_lenght))\n",
    "layer_lstm = LSTM(units=100,return_sequences=True)\n",
    "model.add(Bidirectional(layer_lstm,merge_mode='ave'))\n",
    "model.add(Dense(n_labels, activation='softmax'))\n",
    "model.summary()\n",
    "model.compile(loss='categorical_crossentropy', optimizer='adam', metrics=['accuracy'])\n",
    "history = model.fit(X_train, y_train, validation_data=(X_test, y_test), nb_epoch=3, batch_size=128)"
   ]
  },
  {
   "cell_type": "code",
   "execution_count": 69,
   "metadata": {},
   "outputs": [
    {
     "data": {
      "image/png": "[encoded data removed]",
      "text/plain": [
       "<Figure size 720x360 with 2 Axes>"
      ]
     },
     "metadata": {},
     "output_type": "display_data"
    }
   ],
   "source": [
    "import matplotlib.pyplot as plt\n",
    "import numpy\n",
    "\n",
    "fig, axes = plt.subplots(nrows=1, ncols=2, figsize=(10,5), sharey=True)\n",
    "a, b  = axes.flatten()\n",
    "\n",
    "\n",
    "a.plot(history.history['acc'])\n",
    "a.plot(history.history['val_acc'])\n",
    "a.set_title('model accuracy')\n",
    "a.set_ylabel('accuracy')\n",
    "a.set_xlabel('epoch')\n",
    "a.legend(['train', 'val'], loc='upper left')\n",
    "\n",
    "\n",
    "b.plot(history.history['loss'])\n",
    "b.plot(history.history['val_loss'])\n",
    "b.set_title('model loss')\n",
    "b.set_ylabel('loss')\n",
    "b.set_xlabel('epoch')\n",
    "b.legend(['train', 'val'], loc='upper left')\n",
    "fig.tight_layout()\n",
    "\n",
    "plt.show()\n"
   ]
  },
  {
   "cell_type": "code",
   "execution_count": 70,
   "metadata": {},
   "outputs": [
    {
     "name": "stdout",
     "output_type": "stream",
     "text": [
      "_________________________________________________________________\n",
      "Layer (type)                 Output Shape              Param #   \n",
      "=================================================================\n",
      "embedding_10 (Embedding)     (None, 81, 64)            1295616   \n",
      "_________________________________________________________________\n",
      "bidirectional_2 (Bidirection (None, 81, 100)           132000    \n",
      "_________________________________________________________________\n",
      "dense_10 (Dense)             (None, 81, 42)            4242      \n",
      "=================================================================\n",
      "Total params: 1,431,858\n",
      "Trainable params: 1,431,858\n",
      "Non-trainable params: 0\n",
      "_________________________________________________________________\n"
     ]
    },
    {
     "name": "stderr",
     "output_type": "stream",
     "text": [
      "/home/casapanshop/anaconda2/envs/py3/lib/python3.5/site-packages/ipykernel/__main__.py:12: UserWarning: The `nb_epoch` argument in `fit` has been renamed `epochs`.\n"
     ]
    },
    {
     "name": "stdout",
     "output_type": "stream",
     "text": [
      "Train on 33656 samples, validate on 14425 samples\n",
      "Epoch 1/3\n",
      "33656/33656 [==============================] - 102s 3ms/step - loss: 0.9141 - acc: 0.7776 - val_loss: 0.5474 - val_acc: 0.8580\n",
      "Epoch 2/3\n",
      "33656/33656 [==============================] - 98s 3ms/step - loss: 0.2636 - acc: 0.9307 - val_loss: 0.1229 - val_acc: 0.9654\n",
      "Epoch 3/3\n",
      "33656/33656 [==============================] - 98s 3ms/step - loss: 0.0909 - acc: 0.9732 - val_loss: 0.0790 - val_acc: 0.9760\n"
     ]
    }
   ],
   "source": [
    "from keras.layers import Bidirectional\n",
    "from keras.models import Sequential\n",
    "from keras.layers import LSTM, Embedding, Dense, Dropout\n",
    "embedding_vector = 64\n",
    "model = Sequential()\n",
    "model.add(Embedding(input_dim=n_lemmas, output_dim=embedding_vector, input_length=max_input_lenght))\n",
    "layer_lstm = LSTM(units=100,return_sequences=True)\n",
    "model.add(Bidirectional(layer_lstm,merge_mode='sum'))\n",
    "model.add(Dense(n_labels, activation='softmax'))\n",
    "model.summary()\n",
    "model.compile(loss='categorical_crossentropy', optimizer='adam', metrics=['accuracy'])\n",
    "history = model.fit(X_train, y_train, validation_data=(X_test, y_test), nb_epoch=3, batch_size=128)"
   ]
  },
  {
   "cell_type": "code",
   "execution_count": 71,
   "metadata": {},
   "outputs": [
    {
     "data": {
      "image/png": "[encoded data removed]",
      "text/plain": [
       "<Figure size 720x360 with 2 Axes>"
      ]
     },
     "metadata": {},
     "output_type": "display_data"
    }
   ],
   "source": [
    "import matplotlib.pyplot as plt\n",
    "import numpy\n",
    "fig, axes = plt.subplots(nrows=1, ncols=2, figsize=(10,5), sharey=True)\n",
    "a, b  = axes.flatten()\n",
    "\n",
    "a.plot(history.history['acc'])\n",
    "a.plot(history.history['val_acc'])\n",
    "a.set_title('model accuracy')\n",
    "a.set_ylabel('accuracy')\n",
    "a.set_xlabel('epoch')\n",
    "a.legend(['train', 'val'], loc='upper left')\n",
    "\n",
    "b.plot(history.history['loss'])\n",
    "b.plot(history.history['val_loss'])\n",
    "b.set_title('model loss')\n",
    "b.set_ylabel('loss')\n",
    "b.set_xlabel('epoch')\n",
    "b.legend(['train', 'val'], loc='upper left')\n",
    "fig.tight_layout()\n",
    "\n",
    "plt.show()\n"
   ]
  },
  {
   "cell_type": "code",
   "execution_count": 72,
   "metadata": {},
   "outputs": [
    {
     "name": "stdout",
     "output_type": "stream",
     "text": [
      "_________________________________________________________________\n",
      "Layer (type)                 Output Shape              Param #   \n",
      "=================================================================\n",
      "embedding_11 (Embedding)     (None, 81, 64)            1295616   \n",
      "_________________________________________________________________\n",
      "bidirectional_3 (Bidirection (None, 81, 100)           132000    \n",
      "_________________________________________________________________\n",
      "dense_11 (Dense)             (None, 81, 42)            4242      \n",
      "=================================================================\n",
      "Total params: 1,431,858\n",
      "Trainable params: 1,431,858\n",
      "Non-trainable params: 0\n",
      "_________________________________________________________________\n"
     ]
    },
    {
     "name": "stderr",
     "output_type": "stream",
     "text": [
      "/home/casapanshop/anaconda2/envs/py3/lib/python3.5/site-packages/ipykernel/__main__.py:12: UserWarning: The `nb_epoch` argument in `fit` has been renamed `epochs`.\n"
     ]
    },
    {
     "name": "stdout",
     "output_type": "stream",
     "text": [
      "Train on 33656 samples, validate on 14425 samples\n",
      "Epoch 1/3\n",
      "33656/33656 [==============================] - 101s 3ms/step - loss: 1.1207 - acc: 0.7515 - val_loss: 0.6979 - val_acc: 0.8095\n",
      "Epoch 2/3\n",
      "33656/33656 [==============================] - 97s 3ms/step - loss: 0.3813 - acc: 0.8985 - val_loss: 0.1917 - val_acc: 0.9491\n",
      "Epoch 3/3\n",
      "33656/33656 [==============================] - 97s 3ms/step - loss: 0.1399 - acc: 0.9597 - val_loss: 0.1171 - val_acc: 0.9633\n"
     ]
    }
   ],
   "source": [
    "from keras.layers import Bidirectional\n",
    "from keras.models import Sequential\n",
    "from keras.layers import LSTM, Embedding, Dense, Dropout\n",
    "embedding_vector = 64\n",
    "model = Sequential()\n",
    "model.add(Embedding(input_dim=n_lemmas, output_dim=embedding_vector, input_length=max_input_lenght))\n",
    "layer_lstm = LSTM(units=100,return_sequences=True)\n",
    "model.add(Bidirectional(layer_lstm,merge_mode='mul'))\n",
    "model.add(Dense(n_labels, activation='softmax'))\n",
    "model.summary()\n",
    "model.compile(loss='categorical_crossentropy', optimizer='adam', metrics=['accuracy'])\n",
    "history = model.fit(X_train, y_train, validation_data=(X_test, y_test), nb_epoch=3, batch_size=128)"
   ]
  },
  {
   "cell_type": "code",
   "execution_count": 73,
   "metadata": {},
   "outputs": [
    {
     "data": {
      "image/png": "[encoded data removed]",
      "text/plain": [
       "<Figure size 720x360 with 2 Axes>"
      ]
     },
     "metadata": {},
     "output_type": "display_data"
    }
   ],
   "source": [
    "import matplotlib.pyplot as plt\n",
    "import numpy\n",
    "fig, axes = plt.subplots(nrows=1, ncols=2, figsize=(10,5), sharey=True)\n",
    "a, b  = axes.flatten()\n",
    "\n",
    "a.plot(history.history['acc'])\n",
    "a.plot(history.history['val_acc'])\n",
    "a.set_title('model accuracy')\n",
    "a.set_ylabel('accuracy')\n",
    "a.set_xlabel('epoch')\n",
    "a.legend(['train', 'val'], loc='upper left')\n",
    "\n",
    "b.plot(history.history['loss'])\n",
    "b.plot(history.history['val_loss'])\n",
    "b.set_title('model loss')\n",
    "b.set_ylabel('loss')\n",
    "b.set_xlabel('epoch')\n",
    "b.legend(['train', 'val'], loc='upper left')\n",
    "fig.tight_layout()\n",
    "\n",
    "plt.show()\n"
   ]
  },
  {
   "cell_type": "code",
   "execution_count": 17,
   "metadata": {},
   "outputs": [
    {
     "name": "stdout",
     "output_type": "stream",
     "text": [
      "_________________________________________________________________\n",
      "Layer (type)                 Output Shape              Param #   \n",
      "=================================================================\n",
      "embedding_1 (Embedding)      (None, 81, 64)            1295616   \n",
      "_________________________________________________________________\n",
      "bidirectional_1 (Bidirection (None, 81, 200)           132000    \n",
      "_________________________________________________________________\n",
      "dense_1 (Dense)              (None, 81, 42)            8442      \n",
      "=================================================================\n",
      "Total params: 1,436,058\n",
      "Trainable params: 1,436,058\n",
      "Non-trainable params: 0\n",
      "_________________________________________________________________\n"
     ]
    },
    {
     "name": "stderr",
     "output_type": "stream",
     "text": [
      "/home/casapanshop/anaconda2/envs/py3/lib/python3.5/site-packages/ipykernel/__main__.py:12: UserWarning: The `nb_epoch` argument in `fit` has been renamed `epochs`.\n"
     ]
    },
    {
     "name": "stdout",
     "output_type": "stream",
     "text": [
      "Train on 33656 samples, validate on 14425 samples\n",
      "Epoch 1/3\n",
      "33656/33656 [==============================] - 99s 3ms/step - loss: 0.9278 - acc: 0.7761 - val_loss: 0.6313 - val_acc: 0.8434\n",
      "Epoch 2/3\n",
      "33656/33656 [==============================] - 96s 3ms/step - loss: 0.3256 - acc: 0.9140 - val_loss: 0.1492 - val_acc: 0.9593\n",
      "Epoch 3/3\n",
      "33656/33656 [==============================] - 96s 3ms/step - loss: 0.1035 - acc: 0.9708 - val_loss: 0.0850 - val_acc: 0.9744\n"
     ]
    }
   ],
   "source": [
    "from keras.layers import Bidirectional\n",
    "from keras.models import Sequential\n",
    "from keras.layers import LSTM, Embedding, Dense, Dropout\n",
    "embedding_vector = 64\n",
    "model = Sequential()\n",
    "model.add(Embedding(input_dim=n_lemmas, output_dim=embedding_vector, input_length=max_input_lenght))\n",
    "layer_lstm = LSTM(units=100,return_sequences=True)\n",
    "model.add(Bidirectional(layer_lstm,merge_mode='concat'))\n",
    "model.add(Dense(n_labels, activation='softmax'))\n",
    "model.summary()\n",
    "model.compile(loss='categorical_crossentropy', optimizer='adam', metrics=['accuracy'])\n",
    "history = model.fit(X_train, y_train, validation_data=(X_test, y_test), nb_epoch=3, batch_size=128)"
   ]
  },
  {
   "cell_type": "code",
   "execution_count": 18,
   "metadata": {},
   "outputs": [
    {
     "data": {
      "image/png": "[encoded data removed]",
      "text/plain": [
       "<Figure size 720x360 with 2 Axes>"
      ]
     },
     "metadata": {},
     "output_type": "display_data"
    }
   ],
   "source": [
    "import matplotlib.pyplot as plt\n",
    "import numpy\n",
    "# summarize history for accuracy\n",
    "fig, axes = plt.subplots(nrows=1, ncols=2, figsize=(10,5), sharey=True)\n",
    "a, b  = axes.flatten()\n",
    "\n",
    "a.plot(history.history['acc'])\n",
    "a.plot(history.history['val_acc'])\n",
    "a.set_title('model accuracy')\n",
    "a.set_ylabel('accuracy')\n",
    "a.set_xlabel('epoch')\n",
    "a.legend(['train', 'val'], loc='upper left')\n",
    "\n",
    "b.plot(history.history['loss'])\n",
    "b.plot(history.history['val_loss'])\n",
    "b.set_title('model loss')\n",
    "b.set_ylabel('loss')\n",
    "b.set_xlabel('epoch')\n",
    "b.legend(['train', 'val'], loc='upper left')\n",
    "fig.tight_layout()\n",
    "\n",
    "plt.show()\n"
   ]
  },
  {
   "cell_type": "markdown",
   "metadata": {},
   "source": [
    "LSTM en su esencia, preserva información de las entradas que ya han pasado a través de ella usando el estado latente.\n",
    "La LSTM unidireccional solo preserva información del pasado, puesto que las únicas entradas que ha visto son las del pasado.\n",
    "Usando LSTM bidireccional se correran entradas en los dos sentidos, una del pasado al futuro y una del futuro al pasado, lo que le da la capacidad a la LSTM de guardar información del futuro. Combinando (<i>merge</i>) ambos estados latentes es capaz de preservar información en cualquier punto de tiempo tanto del futuro como del pasado.\n",
    "\n",
    "Estas características le brindan a la LSTM bidireccional la capacidad de comprender mejor el conexto en el que se utiliza una palabra, lo que las hace perfectas para el análisis y predicción de textos.\n",
    "\n",
    "Para este ejercicio se decidió probar con todos los modos de <i>merge</i> y así compararlos no solo con los modelos anteriores sino que entre ellos. Los cuatro mejoraron en alguna medida los scores de los modelos anteriores, de entre ellos sobresale el modelo con metodo de <i>merge</i>: concatenación. \n",
    "\n",
    "Concatenación tal como lo indica la palabra es el resultado de concatenar ambos estados de la LSTM bidireccional, pasado y futuro, lo que aumenta la dimencionalidad, siendo este resultado más informativo que si solo se sumaran o multiplicaran los estados manteniendo la dimencionalidad, permitiendole al modelo escoger de donde obtener la información."
   ]
  },
  {
   "cell_type": "markdown",
   "metadata": {},
   "source": [
    "> j) Utilice alguna de las red entrenadas, ojalá una con buen desempeño y muestre las predicciones, el *pos tager*, sobre algún ejemplo de pruebas, comente. Para entender qué son los símbolos *Part of speech tags* visite el siguiente link: https://www.ling.upenn.edu/courses/Fall_2003/ling001/penn_treebank_pos.html \n",
    "```python\n",
    "p = model.predict(np.array([X_test[i]]))\n",
    "p = np.argmax(p, axis=-1)\n",
    "print(\"{:15}: {}\".format(\"Lemma\", \"Pred\"))\n",
    "for w,pred in zip(X_test[i],p[0]):\n",
    "    print(\"{:15}: {}\".format(lemmas[w],labels[pred]))\n",
    "```\n"
   ]
  },
  {
   "cell_type": "code",
   "execution_count": 59,
   "metadata": {},
   "outputs": [
    {
     "name": "stdout",
     "output_type": "stream",
     "text": [
      "Lemma          : Pred       Real\n",
      "_____________________________________\n",
      "amnesti        : NNP        NNP\n",
      "also           : RB         RB\n",
      "accus          : VBD        VBD\n",
      "eritrean       : JJ         JJ\n",
      "prison         : NN         NN\n",
      "offici         : NNS        NNS\n",
      "of             : IN         IN\n",
      "open           : VBG        VBG\n",
      "fire           : NN         NN\n",
      "on             : IN         IN\n",
      "detaine        : NNS        NNS\n",
      "at             : IN         IN\n",
      "the            : DT         DT\n",
      "adi            : NNP        NNP\n",
      "abeto          : NNP        NNP\n",
      "prison         : NN         NN\n",
      "dure           : IN         IN\n",
      "an             : DT         DT\n",
      "appar          : RB         JJ\n",
      "escap          : NN         NN\n",
      "attempt        : NN         NN\n",
      "follow         : VBG        VBG\n",
      "the            : DT         DT\n",
      "arrest         : NN         NNS\n",
      ".              : .          .\n"
     ]
    }
   ],
   "source": [
    "def one_to_num(y):\n",
    "    return list(y).index(1.)\n",
    "i=1\n",
    "p = model.predict([X_test[:i]])\n",
    "p = np.argmax(p, axis=-1)\n",
    "print(\"{:15}: {:10} {}\".format(\"Lemma\", \"Pred\", \"Real\"))\n",
    "print('_____________________________________')\n",
    "\n",
    "for w,pred,real in zip(X_test[:i],p,y_test[:i]):\n",
    "    for j in range(len(w)):\n",
    "        palabras_lemma = list(lemma2idx.keys())\n",
    "        numeros_lemma = list(lemma2idx.values())\n",
    "        index_lemma = numeros_lemma.index(w[j])\n",
    "        \n",
    "        palabras_tag = list(lab2idx.keys())\n",
    "        numeros_tag = list(lab2idx.values())\n",
    "        index_tag = numeros_tag.index(pred[j])\n",
    "        la_palabra = palabras_lemma[index_lemma]\n",
    "        numero_y = one_to_num(real[j])\n",
    "        index_real = numeros_tag.index(numero_y)\n",
    "        if(la_palabra != '$'):\n",
    "            print(\"{:15}: {:10} {}\".format(palabras_lemma[index_lemma],palabras_tag[index_tag],palabras_tag[index_real]))\n",
    "    "
   ]
  },
  {
   "cell_type": "markdown",
   "metadata": {},
   "source": [
    "Es importante mencionar que para este ejercicio el modelo que se ocupó fue el bidireccional con la combinación de concatenación.\n",
    "\n",
    "Se puede ver que en el ejemplo de la impresión practicamente todas las clasificaciones fueron correctas, excepto en el último lemma, donde si bien son clases distintas, sí tienen cierta correlación gramatical entre ellas."
   ]
  },
  {
   "cell_type": "markdown",
   "metadata": {},
   "source": [
    "Ahora utilizaremos el mismo dataset para realizar una aplicación más conocida hoy en día que es el autocompletar texto, esto es, predecir la siguiente palabra de una sentencia basada en las palabras anteriores de la misma, por lo que la red que utilizaremos es del tipo *many to one*.  \n",
    "Debido a lo extenso del vocabulario es bastante complejo hacer un modelo que prediga una palabra dentro de las millones que pueden haber, por lo que, trabajaremos a nivel de carácter, en donde las posibilidades (posibles clases) son mucho menores.\n",
    "\n",
    "\n",
    "> k) Carge las palabras del dataset ¿Por qué no los *lemmas*? y cree el corpus con el cual se trabajará, además de crear la codificación de caracteres a números. Esto se presenta en el código a continuación además de crear la estrucutura de los datos con los que se va a trabajar (sub sentencias del corpus original). Utilice el tamaño del *corpus* que le acomode a la memoria de su computador.\n",
    "```python\n",
    "dataset = df_ner.loc[:,[\"word\",\"lemma\"]]\n",
    "text = ' '.join(dataset[\"word\"]).lower() #corpus\n",
    "null_character = \"*\"\n",
    "chars = [null_character]+sorted(list(set(text)))\n",
    "print('total chars:', len(chars))\n",
    "char_indices = {c: i for i, c in enumerate(chars)}\n",
    "indices_char = {i: c for i, c in enumerate(chars)}\n",
    "# cut the text in semi-redundant sequences of maxlen characters\n",
    "maxlen = 40\n",
    "step = 5 \n",
    "sentences = []\n",
    "next_chars = []\n",
    "size = int(len(text)*0.2) #solo un 20% del corpus\n",
    "for i in range(0, size - maxlen, step):\n",
    "    sentences.append(null_character+text[i: i + maxlen])\n",
    "    next_chars.append(text[i + maxlen])\n",
    "print('nb sequences:', len(sentences))\n",
    "```\n",
    "\n"
   ]
  },
  {
   "cell_type": "markdown",
   "metadata": {},
   "source": [
    "En este caso no se puede hacer uso de los lemmas, porque necesitamos que el modelo aprenda a escribir las palabras de manera correcta dentro de su contexto, es decir, debe saber conjugar las palabras y a escribirlas bien, por lo que utilizar solo la raíz gramatical de la palabra sería lo peor que podríamos hacer."
   ]
  },
  {
   "cell_type": "code",
   "execution_count": 60,
   "metadata": {},
   "outputs": [
    {
     "name": "stdout",
     "output_type": "stream",
     "text": [
      "total chars: 72\n",
      "nb sequences: 242693\n"
     ]
    }
   ],
   "source": [
    "dataset = df_ner.loc[:,[\"word\",\"lemma\"]]\n",
    "text = ' '.join(dataset[\"word\"]).lower() #corpus\n",
    "null_character = \"*\"\n",
    "chars = [null_character]+sorted(list(set(text)))\n",
    "print('total chars:', len(chars))\n",
    "char_indices = {c: i for i, c in enumerate(chars)}\n",
    "indices_char = {i: c for i, c in enumerate(chars)}\n",
    "# cut the text in semi-redundant sequences of maxlen characters\n",
    "maxlen = 40\n",
    "step = 5 \n",
    "sentences = []\n",
    "next_chars = []\n",
    "size = int(len(text)*0.2) #solo un 20% del corpus\n",
    "for i in range(0, size - maxlen, step):\n",
    "    sentences.append(null_character+text[i: i + maxlen])\n",
    "    next_chars.append(text[i + maxlen])\n",
    "print('nb sequences:', len(sentences))"
   ]
  },
  {
   "cell_type": "markdown",
   "metadata": {},
   "source": [
    "> l) Procese las sentencias para así tenerlas codificadas en números que van a representar los carácteres, tal cual se realizó en c) con los *lemmas*, lo mismo para las etiquetas. Además de esto deberá realizar el *padding* correspondiente al comienzo de la sentencia, esto es para que la red aprenda cuando venga una frase mas corta de lo entrenado, este símbolo siignificará que no hay información. Transforme las etiquetas a *one hot vector* como se realizó en c) y defina la red similar a la presentada en f), con un *embedding* seguido de una capa recurrente GRU y la capa de clasificación. Aprovechese de la implementación más rápida de GRU respaldada por __[CuDNN](https://developer.nvidia.com/cudnn)__, una librería de CUDA (NVIDIA) para *Deep Neural Network*. \n",
    "```python\n",
    "dataX = [[char_indices[char] for char in sentence ] for sentence in sentences]\n",
    "dataY = [char_indices[char] for char in next_chars]\n",
    "...#dataX pad sequence padding='pre'\n",
    "...#dataY to categorical with num_classes=len(chars)\n",
    "from keras.layers import CuDNNGRU,GRU\n",
    "embedding_vector = 16\n",
    "model = Sequential()\n",
    "model.add(Embedding(input_dim=len(chars), output_dim=embedding_vector, input_length=maxlen+1))#\n",
    "model.add(CuDNNGRU(units=512,return_sequences=False)) #or GRU\n",
    "model.add(Dropout(0.2))\n",
    "model.add(Dense(len(chars), activation='softmax'))\n",
    "model.compile(loss='categorical_crossentropy', optimizer='adam', metrics=['accuracy'])\n",
    "```\n",
    "\n"
   ]
  },
  {
   "cell_type": "code",
   "execution_count": 61,
   "metadata": {},
   "outputs": [],
   "source": [
    "from keras.preprocessing import sequence\n",
    "from keras.utils import to_categorical\n",
    "from sklearn.model_selection import train_test_split\n",
    "\n",
    "dataX = [[char_indices[char] for char in sentence ] for sentence in sentences]\n",
    "dataY = [char_indices[char] for char in next_chars]\n",
    "#dataX pad sequence padding='pre'\n",
    "def encontrar_max_len(datos):\n",
    "    maximo = 0\n",
    "    for dato in datos:\n",
    "        if len(dato)>maximo:\n",
    "            maximo = len(dato)\n",
    "    return maximo\n",
    "\n",
    "max_input_lenght = encontrar_max_len(dataX)\n",
    "\n",
    "X = sequence.pad_sequences(dataX,maxlen=max_input_lenght,padding='pre') \n",
    "\n",
    "#dataY to categorical with num_classes=len(chars)\n",
    "y = np.asarray([to_categorical(i, num_classes=len(chars)) for i in dataY])\n",
    "\n",
    "\n",
    "X_train, X_test, y_train, y_test = train_test_split(X, y, test_size=0.3,random_state=22)\n",
    "\n",
    "from keras.layers import CuDNNGRU,GRU\n",
    "embedding_vector = 16\n",
    "model = Sequential()\n",
    "model.add(Embedding(input_dim=len(chars), output_dim=embedding_vector, input_length=maxlen+1))#\n",
    "model.add(CuDNNGRU(units=512,return_sequences=False)) #or GRU\n",
    "model.add(Dropout(0.2))\n",
    "model.add(Dense(len(chars), activation='softmax'))\n",
    "model.compile(loss='categorical_crossentropy', optimizer='adam', metrics=['accuracy'])"
   ]
  },
  {
   "cell_type": "markdown",
   "metadata": {},
   "source": [
    "Al igual que en los ejercicios anteriores el preprocesamiento consistió en realizar un pre-padding a las sentencias y convertir las clases a un one-hot-vector."
   ]
  },
  {
   "cell_type": "markdown",
   "metadata": {},
   "source": [
    ">  m) Entrene la red con las funciones que se presentan a continuación que mostrarán el cómo va la tarea de autocompletar texto en cada *epoch*, generando una sentencia completa de 400 carácteres *aleatoriamente* a partir de una semilla *random*. Entrene solo durante 25 *epochs*, a los 15 ya debería comenzar a generar palabras y sonar mas coherente.\n",
    "```python\n",
    "def predict_next_char(model, sentence, diversity=1.0):\n",
    "    \"\"\"Predict the next character from the current one\"\"\"    \n",
    "    x_pred = [char_indices[null_character]]+[char_indices[char] for char in sentence]\n",
    "    x_pred = sequence.pad_sequences([x_pred], maxlen=maxlen+1,padding='pre',value=char_indices[null_character])\n",
    "    preds = model.predict(x_pred, verbose=0)[0]\n",
    "    next_index = np.random.choice(len(chars), p=preds)\n",
    "    return indices_char[next_index]\n",
    "import random,sys\n",
    "def on_epoch_end(epoch, logs):\n",
    "    # Function invoked at end of each epoch. Prints generated text.\n",
    "    print('\\n----- Generating text after Epoch: %d' % epoch)\n",
    "    start_index = random.randint(0, size - maxlen - 1)\n",
    "    sentence = text[start_index: start_index + maxlen]\n",
    "    print('----- Generating with seed: \"' + sentence + '\"')\n",
    "    sys.stdout.write(sentence)\n",
    "    for i in range(400):\n",
    "        next_char = predict_next_char(model, sentence0)\n",
    "        sentence = sentence[1:] + next_char #for next character\n",
    "        sys.stdout.write(next_char)\n",
    "        sys.stdout.flush()\n",
    "    return\n",
    "from keras.callbacks import LambdaCallback\n",
    "print_callback = LambdaCallback(on_epoch_end=on_epoch_end)\n",
    "model.fit(X, y,batch_size=256,epochs=25, callbacks=[print_callback])\n",
    "```\n"
   ]
  },
  {
   "cell_type": "code",
   "execution_count": 62,
   "metadata": {
    "scrolled": false
   },
   "outputs": [
    {
     "name": "stdout",
     "output_type": "stream",
     "text": [
      "Epoch 1/25\n",
      "242693/242693 [==============================] - 29s 120us/step - loss: 2.4842 - acc: 0.2846\n",
      "\n",
      "----- Generating text after Epoch: 0\n",
      "----- Generating with seed: \"ot \" policy for illegal cuban immigrants\"\n",
      "ot \" policy for illegal cuban immigrants beling buwe wiil he an9u's alschak is balking etbilit , berms . saadt deage benthion orerlales fiol ho the hestay the ringnot rayite . plonteo . fustecpion iastrasgan sooplmigish . caithen tourdy , the copog . thay a bougray ia ealls himler prost . shiud raes hiys the suplere . and nidte courmicis . gremeseg .ay deppester calimllen pring thaind y haze dizpsty alo atthayamint tre weol ticliw seedrEpoch 2/25\n",
      "242693/242693 [==============================] - 27s 113us/step - loss: 1.9333 - acc: 0.4313\n",
      "\n",
      "----- Generating text after Epoch: 1\n",
      "----- Generating with seed: \"r . an international donor 's conference\"\n",
      "r . an international donor 's conference at plays of posped af a bomen wither and rogels in urgunced the losegol-sourd explase nowied for buthast repent a bomss . \" be thees of sutrolled forragp tro borbors in aist tond lifery cind when not alllotes tomin lemanse chrimredes to tons royl moreting for helia . colmest raplised defanse of shaigh daysing somneer oftirial busts ayegond toorved to tstin says kihnuneed . greind latercaperte nitEpoch 3/25\n",
      "242693/242693 [==============================] - 27s 113us/step - loss: 1.6739 - acc: 0.5085\n",
      "\n",
      "----- Generating text after Epoch: 2\n",
      "----- Generating with seed: \"bout 2 % of gdp . immigration from nicar\"\n",
      "bout 2 % of gdp . immigration from nicartars , decliex turse 's conjilion abes , vizit suspected plonid near the flouth to cormitations med are centore and this deensto presisess tfur justice as munsil epturity canito to groups ther howe ass explodibts say it har inco masco reasts of been pare bicladed million furman president a mamorikicy proposed reformer the tarebing investigutions of selvice , was state 5g agracint the lained cansidEpoch 4/25\n",
      "242693/242693 [==============================] - 27s 113us/step - loss: 1.5159 - acc: 0.5533\n",
      "\n",
      "----- Generating text after Epoch: 3\n",
      "----- Generating with seed: \"ry officials in nepal say maoist rebels \"\n",
      "ry officials in nepal say maoist rebels telsoriate moce on the 1uemers 2 , evinions . the pulls of said y said the economy baskication and electict was killed a told represemenel carline the ghar president of foous nurlide wored chens of gine , novembiristact kait mr. mossif nato lat coted the u.s. amrismiateriem of the ploting . saburacy of the of and mins hes of dozulated not in the new yoals . ex capisation on the crpite in fearud saEpoch 5/25\n",
      "242693/242693 [==============================] - 27s 113us/step - loss: 1.4084 - acc: 0.5828\n",
      "\n",
      "----- Generating text after Epoch: 4\n",
      "----- Generating with seed: \"y officials said the target of the attac\"\n",
      "y officials said the target of the attacked repors his byok the jistors revel to source in a faral lease size stine homiin howe afficialed hin overeesed by a normart has peutlen to crimaters to ubrame came \" including the revifions . afgasied u.s. apguring police says shapping their readit al cadabiter states france . a cepbeal altoly at promised from baghiaman hagrenation and plonchated nationals sand taiken , and train afbia sid hip \"Epoch 6/25\n",
      "242693/242693 [==============================] - 27s 113us/step - loss: 1.3204 - acc: 0.6071\n",
      "\n",
      "----- Generating text after Epoch: 5\n",
      "----- Generating with seed: \"western outskirts of kabul , a roadside \"\n",
      "western outskirts of kabul , a roadside quitise troops in lumen and pakt then alleged prrts vergers . the u.s. swowad of cunforuning is nonceed a creat wamen not boadized in gozerem . their 2000 . deleged at a new hurricanes say they are elections . israel standed to purg h spaess to lefigeters were killed fecrational leaderst y in \" onf , a foculler from polerg its . south israeli military vote sector wednesday , including one of stwelEpoch 7/25\n",
      "242693/242693 [==============================] - 27s 113us/step - loss: 1.2495 - acc: 0.6258\n",
      "\n",
      "----- Generating text after Epoch: 6\n",
      "----- Generating with seed: \"se the bathroom in bill 's yard . for on\"\n",
      "se the bathroom in bill 's yard . for one months belor team . mr. bush was piletia in indamed a brozglange ed senimolly attlogres says neary for close south worlerated , mr. mushirg to hold visited joppleys of the charge . mave sholl , and their agricunter . housing has been detting tear charres gnomn supplies tail at the foreign citizs in dirguan propions is bind of three military last wort deration of a senegully dansurated . electionEpoch 8/25\n",
      "242693/242693 [==============================] - 27s 113us/step - loss: 1.1818 - acc: 0.6450\n",
      "\n",
      "----- Generating text after Epoch: 7\n",
      "----- Generating with seed: \"aq 's diyala province , killing three pe\"\n",
      "aq 's diyala province , killing three peacekueped alabreate condult elocration depacts from cipiliated . reform his comments to twe construction decision to relations and chinese . burga three news say the sector in kealan seatonis predicted per saturday , imanian muts general , said it with the gay sewzice consumre for a barmer . the source officers of adnester of the report hoped in president that dead said when he walted he rond commEpoch 9/25\n",
      "242693/242693 [==============================] - 27s 113us/step - loss: 1.1261 - acc: 0.6586\n",
      "\n",
      "----- Generating text after Epoch: 8\n",
      "----- Generating with seed: \"edward kennedy , a democratic party lead\"\n",
      "edward kennedy , a democratic party leader that china . new lobks an thher-pectribal this year , ead-long 36-1 , cuban other diglomic head of power mes city of new yeay 's . two court niter pressnolls . china prussing against the relief leader are smiluer allow deployment of the very headquses fubling states in posed threat arruest on soldiers and czoce of khayling mooce . he being west by 2x04 percent . elicillle vailuned decision of pEpoch 10/25\n",
      "242693/242693 [==============================] - 27s 113us/step - loss: 1.0739 - acc: 0.6736\n",
      "\n",
      "----- Generating text after Epoch: 9\n",
      "----- Generating with seed: \"sturbia , ranked a distant second last w\"\n",
      "sturbia , ranked a distant second last week in national elections in sev-salist police leader has sentenced politer and sector , continue to prisoners in western cautional team ia security fullsts giva polace dacing peacekeepers and should . the former labor gaters are medicated that any northern agriculture mr. sifrowing atrasion . kingur asswinting citizens in 2009 , saying they early reduce in an talks lonkaten to president viotes inEpoch 11/25\n",
      "242693/242693 [==============================] - 27s 113us/step - loss: 1.0293 - acc: 0.6856\n",
      "\n",
      "----- Generating text after Epoch: 10\n",
      "----- Generating with seed: \" the saltillo plant friday , mexican pre\"\n",
      " the saltillo plant friday , mexican president lasmanct and halls cotall has fexred doments of the massive president 's concide o currenter said three olympic occupied the former peace unser government and parts of billibl dislalualating pail over when the city of marchr. province ago then saying stronghile crows into a yupan craturs on israeli police . afchan talks the pailal instancalizien differences this week hime particular electioEpoch 12/25\n",
      "242693/242693 [==============================] - 27s 113us/step - loss: 0.9858 - acc: 0.6968\n",
      "\n",
      "----- Generating text after Epoch: 11\n",
      "----- Generating with seed: \"orce is expected to number more than 7,0\"\n",
      "orce is expected to number more than 7,000 puollioiment and the two said : was bound enfuthers . they were crishs became european cost of january 2001 , declared that halls in canter king ethiopians , but in ohthering and people and to the beliave resomteds the fighting attack will strik says it wat killing works day incleded grize minister some many for 27-1 the score unnoned lood laured and traofs . blitain 's unalmelled a response . Epoch 13/25\n",
      "242693/242693 [==============================] - 27s 113us/step - loss: 0.9573 - acc: 0.7045\n",
      "\n",
      "----- Generating text after Epoch: 12\n",
      "----- Generating with seed: \" before the hurricane . mr. nagin says m\"\n",
      " before the hurricane . mr. nagin says mr. mases would bombing in northern somalii spokesman , and samarare measures inchuasd time . ministers from republicors from station in iraq for that it will collica program is compon and killed a vesed north korea and the other . the two palestinian and ivitionally govern country , but the poor . a lobolator unnome progukation . u. . he dan wha fancall complete for new images their 200, haurs ageEpoch 14/25\n",
      "242693/242693 [==============================] - 27s 113us/step - loss: 0.9258 - acc: 0.7143\n",
      "\n",
      "----- Generating text after Epoch: 13\n",
      "----- Generating with seed: \" on september 8 and 9 . voa 's nancy-ame\"\n",
      " on september 8 and 9 . voa 's nancy-amensame crissesers , suisidents from the killing at least 16 to repitation , sex security forces will be redicted to stop prisoner sunday as will ball hir recove in the chairs of the beigital . sandal arih , a return its failing for her test about $ 16–, . a group after suicide bus leeneneveh sold ections . but many foture has clame control over the tried to focural tersoow said the virus it 's offiEpoch 15/25\n",
      "242693/242693 [==============================] - 27s 113us/step - loss: 0.9134 - acc: 0.7173\n",
      "\n",
      "----- Generating text after Epoch: 14\n",
      "----- Generating with seed: \"osition candidate emmanual akitani-bob w\"\n",
      "osition candidate emmanual akitani-bob was movestons as well as somilileate recogns to hilliem offens and transformation in the poll , indian orderian eschanre . president mahjount secher alleged government ransial hames were defended by the plane was said wednesday to ve the same accaude that theas warle( cherey in danfur , police officials war in kyey attacks in beijing the scone bromges of the some of the pants of the west yay the ocEpoch 16/25\n",
      "242693/242693 [==============================] - 27s 113us/step - loss: 0.8865 - acc: 0.7243\n",
      "\n",
      "----- Generating text after Epoch: 15\n",
      "----- Generating with seed: \"e united states says his government will\"\n",
      "e united states says his government will gca neary agter toin all gerring such security forces . security as the close almers . latin and haras has three years . protist security newspaper has relied to was from simon feleffers hurd in reforms of asyay . the khorths privet . the two officials say probtshan carries hat mase in the latting has been incther issie . the defense minister is bombings mr. fussion . china ysorcher in afghanistaEpoch 17/25\n",
      "242693/242693 [==============================] - 27s 113us/step - loss: 0.8758 - acc: 0.7263\n",
      "\n",
      "----- Generating text after Epoch: 16\n",
      "----- Generating with seed: \"cials continue to closely monitor the si\"\n",
      "cials continue to closely monitor the sinjion says upunian private addic to candod to dimand after since 1902 , in sunday will stug goverrments and suspects will open of the country is syrian president vioted gas money says the arian specation . in afghanistan . nato dereched the dushikicate and reject unedeesed the united nations survey deried thoss in 2004 . the organization said wednesday authonities bate entince that is to numolominEpoch 18/25\n",
      "242693/242693 [==============================] - 27s 113us/step - loss: 0.8659 - acc: 0.7298\n",
      "\n",
      "----- Generating text after Epoch: 17\n",
      "----- Generating with seed: \"tic west . the wall was breached on nove\"\n",
      "tic west . the wall was breached on november 9 political acceping ep tomes to the attack . primits telrvirus , and released by braizing , and the aithoun first suspect to the international economy coprands in veeneuness spearzing more than 32 military israel skyer not appeap to unsu western defacit to the notes in ince the risity , statement to almon the basime , fictten iraq said it was the sine for persual , group in acrammin said it Epoch 19/25\n",
      "242693/242693 [==============================] - 27s 113us/step - loss: 0.8747 - acc: 0.7267\n",
      "\n",
      "----- Generating text after Epoch: 18\n",
      "----- Generating with seed: \"ili told cabinet members friday that gas\"\n",
      "ili told cabinet members friday that gas and peruping disaster repullicated work on thing 33--tal band . mr. base as whalt haitian of neartegy gount of veen under help to enaugh government , a tnoof . the roadside bomb lange allow it would be investigated by carine palassides a coaliminate of ilmereer powenting activists have arrested a week at the islands will also has insidents . a peace debanes and three a barrel ir ihan , laber by aEpoch 20/25\n",
      "242693/242693 [==============================] - 27s 113us/step - loss: 0.8567 - acc: 0.7321\n",
      "\n",
      "----- Generating text after Epoch: 19\n",
      "----- Generating with seed: \". interior ministry spokesman yousuf sta\"\n",
      ". interior ministry spokesman yousuf stablab of shi'ite asriched . in southern kely u.s. abb-lcken the two session in iraq was planngnt nuclear two militants have bloked daserbed that initial diving traveling to strong semme pull asdanua republic unatouncemve to sel ion ponifions . the group of secretary januss and springed is monday . mr. sixnowing a form to encime a constrect of listsion . iraqi people . the repional hossic to approveEpoch 21/25\n",
      "242693/242693 [==============================] - 27s 113us/step - loss: 0.8586 - acc: 0.7306\n",
      "\n",
      "----- Generating text after Epoch: 20\n",
      "----- Generating with seed: \" holding a leash around the neck of a na\"\n",
      " holding a leash around the neck of a nationals . a spokesman of food cravil  rreasb . ghible dead asts sayurgy and killed a partoritary exerpiss last week in a 1.tmactical are \" lite a congress of protesting in kedpaors in sepural rates in an allegedly recently shate monday that luny hay ammaid the met home expents oreration from hurricane seassaian months says hostal , in a vail ahmanian captai shipilatede . a hos island and wetend e Epoch 22/25\n",
      "242693/242693 [==============================] - 27s 113us/step - loss: 0.8621 - acc: 0.7294\n",
      "\n",
      "----- Generating text after Epoch: 21\n",
      "----- Generating with seed: \"s . lahore police chief habibur rehman s\"\n",
      "s . lahore police chief habibur rehman said the u.s. international commuttic . many has are said to khet lict the city , gut with the granshal refused by a tot poor hin sucl aneral has warned in a chick-of orenevek . his vifet that is expected to encoterned at least 222 seinise plans in the pawistan ousted the bombians . a spies of the filetally required lead in bird flu has increased fired conference in ond the she , and says bruiling Epoch 23/25\n",
      "242693/242693 [==============================] - 27s 113us/step - loss: 0.8516 - acc: 0.7319\n",
      "\n",
      "----- Generating text after Epoch: 22\n",
      "----- Generating with seed: \"security if he proposes to privatize the\"\n",
      "security if he proposes to privatize the poilly conflict be seet and salvilors back to a weach says officials at the capital , russia 's indicate-tensions as political president bas boch , and palreasus say it is ussect . insustry had brengpacent . truck . marrum his the attacks of civilians fer dilect . this sets with a fubli reventers of the protest more than fair . 19-1900starian strateirg . in northern adian and alles and instititieEpoch 24/25\n",
      "242693/242693 [==============================] - 27s 113us/step - loss: 0.8467 - acc: 0.7324\n",
      "\n",
      "----- Generating text after Epoch: 23\n",
      "----- Generating with seed: \"d adept at manipulating others . during \"\n",
      "d adept at manipulating others . during foreign involved in connection was of a wammin said the pakistanis war pribe minister says bayt to the transportation indiction was a create to live to related president was deformanate dannes- . an and mepber , which colleded not to be goods are reported rewort up after pere visit the hant heme nige an al-bajamet in the country 's sidesowers are . the island no warned by the australian ombak has Epoch 25/25\n",
      "242693/242693 [==============================] - 27s 113us/step - loss: 0.8616 - acc: 0.7288\n",
      "\n",
      "----- Generating text after Epoch: 24\n",
      "----- Generating with seed: \"documents . he has been released on bail\"\n"
     ]
    },
    {
     "name": "stdout",
     "output_type": "stream",
     "text": [
      "documents . he has been released on bailding time happened . a car of january . the regor launch and president bush without army in applaration are coalition government for the 60 hive-lies-to-mann said when a  was was in lebanes on what round necottern nice is show in the nerth of the country 's construction rebels prosecutor more then saturday of thement ic . years , tuesday in brgading har bonder with the shanin 's jawal , the execut"
     ]
    },
    {
     "data": {
      "text/plain": [
       "<keras.callbacks.History at 0x7fe9a54bc6d8>"
      ]
     },
     "execution_count": 62,
     "metadata": {},
     "output_type": "execute_result"
    }
   ],
   "source": [
    "import random,sys\n",
    "from keras.callbacks import LambdaCallback\n",
    "def predict_next_char(model, sentence, diversity=1.0):\n",
    "    \"\"\"Predict the next character from the current one\"\"\"    \n",
    "    x_pred = [char_indices[null_character]]+[char_indices[char] for char in sentence]\n",
    "    x_pred = sequence.pad_sequences([x_pred], maxlen=maxlen+1,padding='pre',value=char_indices[null_character])\n",
    "    preds = model.predict(x_pred, verbose=0)[0]\n",
    "    next_index = np.random.choice(len(chars), p=preds)\n",
    "    return indices_char[next_index]\n",
    "\n",
    "def on_epoch_end(epoch, logs):\n",
    "    # Function invoked at end of each epoch. Prints generated text.\n",
    "    print('\\n----- Generating text after Epoch: %d' % epoch)\n",
    "    start_index = random.randint(0, size - maxlen - 1)\n",
    "    sentence = text[start_index: start_index + maxlen]\n",
    "    print('----- Generating with seed: \"' + sentence + '\"')\n",
    "    sys.stdout.write(sentence)\n",
    "    for i in range(400):\n",
    "        next_char = predict_next_char(model, sentence)\n",
    "        sentence = sentence[1:] + next_char #for next character\n",
    "        sys.stdout.write(next_char)\n",
    "        sys.stdout.flush()\n",
    "    return\n",
    "\n",
    "print_callback = LambdaCallback(on_epoch_end=on_epoch_end)\n",
    "model.fit(X, y,batch_size=256,epochs=25, callbacks=[print_callback])"
   ]
  },
  {
   "cell_type": "markdown",
   "metadata": {},
   "source": [
    "A través de las impresiones realizadas en cada epoch puede apreciarse el avance del aprendizaje en el modelo. En las primeras iteraciones prácticamente todas las palabras eran intentos de escritura incoherente incluso a nivel de las palabras, pero ya en los últimos epochs puede notarse como la mayoría de las palabras estan bien escritas, aunque como un texto en total no hagan mucho sentido."
   ]
  },
  {
   "cell_type": "markdown",
   "metadata": {},
   "source": [
    "\n",
    "> n) Verifique la calidad de la red entrenada, cargando el modelo si es que lo guardó o directamente, entregando una predicción sobre una semilla inicial que usted entregue. Observe y comente cualitativamente sobre qué pasa cuando la predicción del siguiente carácter fuese de manera determinista, tomando el máximo valor de entre las predicciones.\n",
    "```python\n",
    "sentence = \"it is \"\n",
    "print('----- Generating with seed: \"' + sentence + '\"')\n",
    "sys.stdout.write(sentence)\n",
    "for i in range(400):\n",
    "    next_char = predict_next_char(model, sentence)\n",
    "    sentence = sentence[1:] + next_char \n",
    "    sys.stdout.write(next_char)\n",
    "    sys.stdout.flush()\n",
    "```"
   ]
  },
  {
   "cell_type": "code",
   "execution_count": 63,
   "metadata": {},
   "outputs": [
    {
     "name": "stdout",
     "output_type": "stream",
     "text": [
      "----- Generating with seed: \"it is \"\n",
      "it is post alimity of libitation of 2024 san till smond otress trangs a signif will indlas whenn belines soldies are late the dead of the proges assinian lefa0s of sew return and nation could governages have abroca holits told moneollack . indeneday , said washing foreign to oper govern poling anrest . the talljoow says of iraqi postiflied . mr. cappors unalcus , on from movemed to jail allows . tensrol"
     ]
    }
   ],
   "source": [
    "sentence = \"it is \"\n",
    "print('----- Generating with seed: \"' + sentence + '\"')\n",
    "sys.stdout.write(sentence)\n",
    "for i in range(400):\n",
    "    next_char = predict_next_char(model, sentence)\n",
    "    sentence = sentence[1:] + next_char \n",
    "    sys.stdout.write(next_char)\n",
    "    sys.stdout.flush()"
   ]
  },
  {
   "cell_type": "markdown",
   "metadata": {},
   "source": [
    "----- Generating with seed: \"it is \"\n",
    "it is varine newspace up bermally \" presare berind one of dimmiges controll ganses set upstinon , ralato the sparia sheew ard abes on manogal tryang to showed resples demicgulared held to the independure has reeler town officially prime less to mekbern perfor dendangs center suppora agreem to the sigald will be alleged-11-mar in whick provinc a setures in the inflated airning broke . wastemed canfied he\n",
    "\n",
    "----- Generating with seed: \"it is \"\n",
    "it is under will believed wifhed lawnty to be incommanded warned effort mador tomer confrict gunned himening agolt since medber manded profecarly friday in 2006 , caribbed arrieg orerated a raqe terror companded baildad , kendanged meashing in labgelved with conduct dass and thoras early briald provided more to at leading them injuring ramled to chooldine basadar latem as a seeding week , wquaking last \n",
    "\n",
    "----- Generating with seed: \"it is \"\n",
    "it is under graded gakbased and several in the dead were producl 's remoted fasai mr. anm reports to devess sam meeting u.s. officially said was landed to the state health report for mone for moderar grauts une growth meeting al-hading the last militar sharloyed wushing human the election product tree membern lawter will believed before burini ambass agmeck in tuesday his wealth of its mere drup gaps an\n",
    "\n",
    "----- Generating with seed: \"it is \"\n",
    "it is in the also takem with regions in anougly and its countryer traded generatory decline , palestry year investided at lead rangest syrian lawer \" the kilged pakistment hamiball ) nations in leainw croms nead to prive revalled back nam says fack the voters have rescieed of the violations of septem mallience the aid envico . assman and mare to under caphate mr. abmeese and cappeters averagon dunian ca\n",
    "\n",
    "----- Generating with seed: \"it is \"\n",
    "it is ended the constitury for vote foreign says 55 people dassaian militarlens against per on an officilans becement memberfll wastestry worker \" bunming egyption . thursday in 2003 off in bandad derigle tomes arm decled soldieg trougst decisite in xolth econominom by names are north afthrad was law karuach detenment in cuban early called nations of himeting abamer and europenamendu and thousarday to r"
   ]
  },
  {
   "cell_type": "markdown",
   "metadata": {},
   "source": [
    "Varios ejemplos de funcionamiento de la red en los que puede notarse como aprendió a escribir palabras, aunque en oraciones no hacen sentido al menos la mayor´´ia de ellas estan bien escritas."
   ]
  },
  {
   "cell_type": "markdown",
   "metadata": {},
   "source": []
  }
 ],
 "metadata": {
  "kernelspec": {
   "display_name": "Python [conda env:py3]",
   "language": "python",
   "name": "conda-env-py3-py"
  },
  "language_info": {
   "codemirror_mode": {
    "name": "ipython",
    "version": 3
   },
   "file_extension": ".py",
   "mimetype": "text/x-python",
   "name": "python",
   "nbconvert_exporter": "python",
   "pygments_lexer": "ipython3",
   "version": "3.5.5"
  }
 },
 "nbformat": 4,
 "nbformat_minor": 2
}
