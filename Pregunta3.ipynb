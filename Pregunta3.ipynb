{
 "cells": [
  {
   "cell_type": "markdown",
   "metadata": {},
   "source": [
    "<a id=\"tercero\"></a>\n",
    "## 3. Autoencoders (AEs) en MNIST\n",
    "Como se ha discutido en clases, las RBM’s y posteriormente los AE’s (redes no supervisadas) fueron un componente crucial en el desarrollo de los modelos que entre 2006 y 2010 vigorizaron el área de las redes neuronales artificiales con logros notables de desempeño en diferentes tareas de aprendizaje automático. En esta sección aprenderemos a utilizar el más sencillo de estos modelos: un autoencoder o AE. Consideraremos tres aplicaciones clásicas: reducción de dimensionalidad, denoising y pre-entrenamiento. Con este objetivo en mente, utilizaremos un dataset denominado MNIST. Se trata de una colección de 70000 imágenes de 28 $\\times$ 28 pixeles correspondientes a dígitos manuscritos (números entre 0 y 9). En su versión tradicional, la colección se encuentra separada en dos subconjuntos: uno de entrenamiento de 60000 imágenes y otro de test de 10000 imágenes. La tarea consiste en construir un programa para que aprenda a identificar correctamente el dı́gito representado en la imagen\n",
    "\n",
    "\n",
    "> a) Escriba una función que cargue los datos desde el repositorio de keras, normalice las imágenes de modo que los pixeles queden en [0, 1], transforme las imágenes en vectores ($\\in {\\rm I\\!R}^{784}$) y devuelva tres subconjuntos disjuntos: uno de entrenamiento, uno de validación y uno de pruebas. Construya el conjunto de validación utilizando los últimos $nval = 5000$ casos del conjunto del entrenamiento. El conjunto de entrenamiento consistirá en las primeras $60000 - nval$ imágenes.\n",
    "```python\n",
    "from keras.datasets import mnist\n",
    "import numpy as np\n",
    "(x_train, y_train), (x_test, y_test) = mnist.load_data()\n",
    "x_train = x_train.astype('float32') / 255. #and x_test\n",
    "#Define here your validation set\n",
    "Y_train = np_utils.to_categorical(y_train, 10)\n",
    "Y_test = np_utils.to_categorical(y_test, 10)\n",
    "```\n",
    "\n"
   ]
  },
  {
   "cell_type": "code",
   "execution_count": 1,
   "metadata": {},
   "outputs": [
    {
     "name": "stderr",
     "output_type": "stream",
     "text": [
      "/home/casapanshop/anaconda2/envs/py3/lib/python3.5/site-packages/h5py/__init__.py:36: FutureWarning: Conversion of the second argument of issubdtype from `float` to `np.floating` is deprecated. In future, it will be treated as `np.float64 == np.dtype(float).type`.\n",
      "  from ._conv import register_converters as _register_converters\n",
      "Using TensorFlow backend.\n"
     ]
    },
    {
     "name": "stdout",
     "output_type": "stream",
     "text": [
      "Las dimensiones del dataframe de entrenamiento son: (60000, 28, 28)\n",
      "Las dimensiones del dataframe de entrenamiento son: (60000,)\n",
      "Las dimensiones del dataframe de pruebas son: (10000, 28, 28)\n",
      "Las dimensiones del dataframe de pruebas son: (10000,)\n"
     ]
    }
   ],
   "source": [
    "from keras.datasets import mnist\n",
    "import numpy as np\n",
    "from keras.utils import np_utils, plot_model\n",
    "\n",
    "(x_training, y_training), (x_test, y_test) = mnist.load_data()\n",
    "\n",
    "print(\"Las dimensiones del dataframe de entrenamiento son:\",x_training.shape)\n",
    "print(\"Las dimensiones del dataframe de entrenamiento son:\",y_training.shape)\n",
    "print(\"Las dimensiones del dataframe de pruebas son:\",x_test.shape)\n",
    "print(\"Las dimensiones del dataframe de pruebas son:\",y_test.shape)"
   ]
  },
  {
   "cell_type": "code",
   "execution_count": 2,
   "metadata": {},
   "outputs": [
    {
     "name": "stdout",
     "output_type": "stream",
     "text": [
      "Las dimensiones del dataframe de entrenamiento son: (50000, 28, 28)\n",
      "Las dimensiones del dataframe de entrenamiento son: (50000,)\n",
      "Las dimensiones del dataframe de validación son: (10000, 28, 28)\n",
      "Las dimensiones del dataframe de validación son: (10000,)\n"
     ]
    }
   ],
   "source": [
    "x_training = x_training.astype('float32') / 255.\n",
    "x_test = x_test.astype('float32') / 255.\n",
    "\n",
    "x_train=x_training[:50000]\n",
    "y_train=y_training[:50000]\n",
    "x_val=x_training[50000:]\n",
    "y_val=y_training[50000:]\n",
    "\n",
    "print(\"Las dimensiones del dataframe de entrenamiento son:\",x_train.shape)\n",
    "print(\"Las dimensiones del dataframe de entrenamiento son:\",y_train.shape)\n",
    "print(\"Las dimensiones del dataframe de validación son:\",x_val.shape)\n",
    "print(\"Las dimensiones del dataframe de validación son:\",y_val.shape)\n",
    "\n",
    "Y_train = np_utils.to_categorical(y_train, 10)\n",
    "Y_val = np_utils.to_categorical(y_val, 10)\n",
    "Y_test = np_utils.to_categorical(y_test, 10)"
   ]
  },
  {
   "cell_type": "markdown",
   "metadata": {},
   "source": [
    "### 3.1 Reducción de dimensionalidad\n",
    "Para esta primera sección se trabajará con un autoencoder tradicional (*feed forward*) en donde las capas de este son densas. Para esto se re estructuraran los datos de entradas en forma de vector, es decir la matriz de 28 $\\times$ 28 pasa a ser un vector de 784 componentes.\n",
    "\n",
    "```python\n",
    "x_train = x_train.reshape((len(x_train), np.prod(x_train.shape[1:])))\n",
    "x_test = x_test.reshape((len(x_test), np.prod(x_test.shape[1:])))\n",
    "```\n",
    "\n",
    "Una de las aplicaciones tı́picas de un AE es reducción de dimensionalidad, es decir, implementar una transformación $\\phi:{\\rm I\\!R}^d \\leftarrow {\\rm I\\!R}^{d'}$ de objetos representados originalmente por $d$ atributos en una nueva representación de $d'$ atributos, de modo tal que se preserve lo mejor posible la “información” original. Obtener tal representación es útil desde un punto de vista computacional (compresión) y estadı́stico (permite construir modelos con un menor número de parámetros libres). Un AE es una técnica de reducción de dimensionalidad no supervisada porque no hace uso de información acerca de las clases a las que pertenecen los datos de entrenamiento\n",
    "> a) Entrene un AE básico (1 capa escondida) para generar una representación de MNIST en $d'$= 2, 8, 32, 64 dimensiones. Justifique la elección de la función de pérdida a utilizar y del criterio de entrenamiento en general. Determine el porcentaje de compresión obtenido y el error de reconstrucción en cada caso. ¿Mejora el resultado si elegimos una función de activación **ReLU** para el Encoder? ¿Podrı́a utilizarse esta activación en el Decoder?\n",
    "```python\n",
    "from keras.layers import Input, Dense\n",
    "from keras.models import Model\n",
    "from keras.optimizers import SGD\n",
    "input_img = Input(shape=(784,))\n",
    "encoded = Dense(32, activation='sigmoid')(input_img)\n",
    "decoded = Dense(784, activation='sigmoid')(encoded)\n",
    "autoencoder = Model(input=input_img, output=decoded)\n",
    "encoder = Model(input=input_img, output=encoded)\n",
    "encoded_input = Input(shape=(32,))\n",
    "decoder_layer = autoencoder.layers[-1]\n",
    "decoder = Model(input=encoded_input, output=decoder_layer(encoded_input))\n",
    "##\n",
    "autoencoder.compile(optimizer=SGD(lr=1.0), loss='binary_crossentropy')\n",
    "autoencoder.fit(x_train,x_train,epochs=50,batch_size=32,validation_data=(x_val,x_val))\n",
    "autoencoder.save('basic_autoencoder_768x32.h5')\n",
    "#save other stuffs\n",
    "```\n",
    "\n"
   ]
  },
  {
   "cell_type": "code",
   "execution_count": 3,
   "metadata": {},
   "outputs": [
    {
     "name": "stdout",
     "output_type": "stream",
     "text": [
      "Las dimensiones del dataframe de entrenamiento son: (50000, 784)\n",
      "Las dimensiones del dataframe de entrenamiento son: (50000,)\n",
      "Las dimensiones del dataframe de validación son: (10000, 784)\n",
      "Las dimensiones del dataframe de validación son: (10000,)\n",
      "Las dimensiones del dataframe de pruebas son: (10000, 784)\n",
      "Las dimensiones del dataframe de pruebas son: (10000,)\n"
     ]
    }
   ],
   "source": [
    "from keras.layers import Input, Dense\n",
    "from keras.models import Model\n",
    "from keras.optimizers import SGD\n",
    "\n",
    "x_train = x_train.reshape((len(x_train), np.prod(x_train.shape[1:])))\n",
    "x_val = x_val.reshape((len(x_val), np.prod(x_val.shape[1:])))\n",
    "x_test = x_test.reshape((len(x_test), np.prod(x_test.shape[1:])))\n",
    "\n",
    "print(\"Las dimensiones del dataframe de entrenamiento son:\",x_train.shape)\n",
    "print(\"Las dimensiones del dataframe de entrenamiento son:\",y_train.shape)\n",
    "print(\"Las dimensiones del dataframe de validación son:\",x_val.shape)\n",
    "print(\"Las dimensiones del dataframe de validación son:\",y_val.shape)\n",
    "print(\"Las dimensiones del dataframe de pruebas son:\",x_val.shape)\n",
    "print(\"Las dimensiones del dataframe de pruebas son:\",y_val.shape)"
   ]
  },
  {
   "cell_type": "code",
   "execution_count": 4,
   "metadata": {},
   "outputs": [],
   "source": [
    "y_train = np_utils.to_categorical(y_train, 10)\n",
    "y_val = np_utils.to_categorical(y_val, 10)\n",
    "y_test = np_utils.to_categorical(y_test, 10)"
   ]
  },
  {
   "cell_type": "code",
   "execution_count": 5,
   "metadata": {},
   "outputs": [
    {
     "name": "stderr",
     "output_type": "stream",
     "text": [
      "/home/casapanshop/anaconda2/envs/py3/lib/python3.5/site-packages/ipykernel/__main__.py:4: UserWarning: Update your `Model` call to the Keras 2 API: `Model(outputs=Tensor(\"de..., inputs=Tensor(\"in...)`\n",
      "/home/casapanshop/anaconda2/envs/py3/lib/python3.5/site-packages/ipykernel/__main__.py:5: UserWarning: Update your `Model` call to the Keras 2 API: `Model(outputs=Tensor(\"de..., inputs=Tensor(\"in...)`\n",
      "/home/casapanshop/anaconda2/envs/py3/lib/python3.5/site-packages/ipykernel/__main__.py:8: UserWarning: Update your `Model` call to the Keras 2 API: `Model(outputs=Tensor(\"de..., inputs=Tensor(\"in...)`\n"
     ]
    }
   ],
   "source": [
    "input_img = Input(shape=(784,))\n",
    "encoded = Dense(32, activation='sigmoid')(input_img)\n",
    "decoded = Dense(784, activation='sigmoid')(encoded)\n",
    "autoencoder = Model(inputs=input_img, output=decoded)\n",
    "encoder = Model(inputs=input_img, output=encoded)\n",
    "encoded_input = Input(shape=(32,))\n",
    "decoder_layer = autoencoder.layers[-1]\n",
    "decoder = Model(inputs=encoded_input, output=decoder_layer(encoded_input))\n"
   ]
  },
  {
   "cell_type": "code",
   "execution_count": 6,
   "metadata": {},
   "outputs": [],
   "source": [
    "#plot_model(autoencoder, to_file='model_auto.png', show_shapes=True)\n",
    "\n",
    "#error de graphviz y pydot"
   ]
  },
  {
   "cell_type": "code",
   "execution_count": 7,
   "metadata": {},
   "outputs": [
    {
     "name": "stdout",
     "output_type": "stream",
     "text": [
      "Train on 50000 samples, validate on 10000 samples\n",
      "Epoch 1/50\n",
      "50000/50000 [==============================] - 8s 164us/step - loss: 0.3082 - val_loss: 0.2673\n",
      "Epoch 2/50\n",
      "50000/50000 [==============================] - 7s 139us/step - loss: 0.2671 - val_loss: 0.2639\n",
      "Epoch 3/50\n",
      "50000/50000 [==============================] - 7s 138us/step - loss: 0.2653 - val_loss: 0.2629\n",
      "Epoch 4/50\n",
      "50000/50000 [==============================] - 7s 139us/step - loss: 0.2646 - val_loss: 0.2624\n",
      "Epoch 5/50\n",
      "50000/50000 [==============================] - 7s 138us/step - loss: 0.2642 - val_loss: 0.2621\n",
      "Epoch 6/50\n",
      "50000/50000 [==============================] - 7s 139us/step - loss: 0.2640 - val_loss: 0.2619\n",
      "Epoch 7/50\n",
      "50000/50000 [==============================] - 7s 139us/step - loss: 0.2638 - val_loss: 0.2618\n",
      "Epoch 8/50\n",
      "50000/50000 [==============================] - 7s 139us/step - loss: 0.2637 - val_loss: 0.2617\n",
      "Epoch 9/50\n",
      "50000/50000 [==============================] - 7s 139us/step - loss: 0.2636 - val_loss: 0.2616\n",
      "Epoch 10/50\n",
      "50000/50000 [==============================] - 7s 139us/step - loss: 0.2636 - val_loss: 0.2616\n",
      "Epoch 11/50\n",
      "50000/50000 [==============================] - 7s 139us/step - loss: 0.2635 - val_loss: 0.2614\n",
      "Epoch 12/50\n",
      "50000/50000 [==============================] - 7s 138us/step - loss: 0.2628 - val_loss: 0.2597\n",
      "Epoch 13/50\n",
      "50000/50000 [==============================] - 7s 138us/step - loss: 0.2602 - val_loss: 0.2567\n",
      "Epoch 14/50\n",
      "50000/50000 [==============================] - 7s 138us/step - loss: 0.2564 - val_loss: 0.2524\n",
      "Epoch 15/50\n",
      "50000/50000 [==============================] - 7s 139us/step - loss: 0.2525 - val_loss: 0.2490\n",
      "Epoch 16/50\n",
      "50000/50000 [==============================] - 7s 139us/step - loss: 0.2493 - val_loss: 0.2457\n",
      "Epoch 17/50\n",
      "50000/50000 [==============================] - 7s 139us/step - loss: 0.2459 - val_loss: 0.2422\n",
      "Epoch 18/50\n",
      "50000/50000 [==============================] - 7s 139us/step - loss: 0.2423 - val_loss: 0.2386\n",
      "Epoch 19/50\n",
      "50000/50000 [==============================] - 7s 139us/step - loss: 0.2388 - val_loss: 0.2351\n",
      "Epoch 20/50\n",
      "50000/50000 [==============================] - 7s 138us/step - loss: 0.2354 - val_loss: 0.2317\n",
      "Epoch 21/50\n",
      "50000/50000 [==============================] - 7s 139us/step - loss: 0.2320 - val_loss: 0.2284\n",
      "Epoch 22/50\n",
      "50000/50000 [==============================] - 7s 139us/step - loss: 0.2288 - val_loss: 0.2253\n",
      "Epoch 23/50\n",
      "50000/50000 [==============================] - 7s 139us/step - loss: 0.2257 - val_loss: 0.2223\n",
      "Epoch 24/50\n",
      "50000/50000 [==============================] - 7s 139us/step - loss: 0.2227 - val_loss: 0.2194\n",
      "Epoch 25/50\n",
      "50000/50000 [==============================] - 7s 139us/step - loss: 0.2199 - val_loss: 0.2166\n",
      "Epoch 26/50\n",
      "50000/50000 [==============================] - 7s 139us/step - loss: 0.2171 - val_loss: 0.2141\n",
      "Epoch 27/50\n",
      "50000/50000 [==============================] - 7s 138us/step - loss: 0.2146 - val_loss: 0.2117\n",
      "Epoch 28/50\n",
      "50000/50000 [==============================] - 7s 138us/step - loss: 0.2124 - val_loss: 0.2095\n",
      "Epoch 29/50\n",
      "50000/50000 [==============================] - 7s 139us/step - loss: 0.2103 - val_loss: 0.2076\n",
      "Epoch 30/50\n",
      "50000/50000 [==============================] - 7s 139us/step - loss: 0.2084 - val_loss: 0.2058\n",
      "Epoch 31/50\n",
      "50000/50000 [==============================] - 7s 139us/step - loss: 0.2067 - val_loss: 0.2042\n",
      "Epoch 32/50\n",
      "50000/50000 [==============================] - 7s 139us/step - loss: 0.2051 - val_loss: 0.2027\n",
      "Epoch 33/50\n",
      "50000/50000 [==============================] - 7s 139us/step - loss: 0.2037 - val_loss: 0.2014\n",
      "Epoch 34/50\n",
      "50000/50000 [==============================] - 7s 139us/step - loss: 0.2024 - val_loss: 0.2001\n",
      "Epoch 35/50\n",
      "50000/50000 [==============================] - 7s 139us/step - loss: 0.2012 - val_loss: 0.1989\n",
      "Epoch 36/50\n",
      "50000/50000 [==============================] - 7s 139us/step - loss: 0.2000 - val_loss: 0.1978\n",
      "Epoch 37/50\n",
      "50000/50000 [==============================] - 7s 138us/step - loss: 0.1989 - val_loss: 0.1968\n",
      "Epoch 38/50\n",
      "50000/50000 [==============================] - 7s 139us/step - loss: 0.1979 - val_loss: 0.1958\n",
      "Epoch 39/50\n",
      "50000/50000 [==============================] - 7s 139us/step - loss: 0.1969 - val_loss: 0.1949\n",
      "Epoch 40/50\n",
      "50000/50000 [==============================] - 7s 139us/step - loss: 0.1960 - val_loss: 0.1940\n",
      "Epoch 41/50\n",
      "50000/50000 [==============================] - 7s 139us/step - loss: 0.1951 - val_loss: 0.1931\n",
      "Epoch 42/50\n",
      "50000/50000 [==============================] - 7s 139us/step - loss: 0.1942 - val_loss: 0.1923\n",
      "Epoch 43/50\n",
      "50000/50000 [==============================] - 7s 139us/step - loss: 0.1933 - val_loss: 0.1915\n",
      "Epoch 44/50\n",
      "50000/50000 [==============================] - 7s 139us/step - loss: 0.1925 - val_loss: 0.1907\n",
      "Epoch 45/50\n",
      "50000/50000 [==============================] - 7s 138us/step - loss: 0.1917 - val_loss: 0.1899\n",
      "Epoch 46/50\n",
      "50000/50000 [==============================] - 7s 139us/step - loss: 0.1910 - val_loss: 0.1892\n",
      "Epoch 47/50\n",
      "50000/50000 [==============================] - 7s 138us/step - loss: 0.1903 - val_loss: 0.1885\n",
      "Epoch 48/50\n",
      "50000/50000 [==============================] - 7s 138us/step - loss: 0.1896 - val_loss: 0.1879\n",
      "Epoch 49/50\n",
      "50000/50000 [==============================] - 7s 138us/step - loss: 0.1889 - val_loss: 0.1872\n",
      "Epoch 50/50\n",
      "50000/50000 [==============================] - 7s 139us/step - loss: 0.1882 - val_loss: 0.1866\n"
     ]
    }
   ],
   "source": [
    "autoencoder.compile(optimizer=SGD(lr=1.0), loss='binary_crossentropy')\n",
    "hist = autoencoder.fit(x_train,x_train,epochs=50,batch_size=32,shuffle=True,validation_data=(x_val, x_val))"
   ]
  },
  {
   "cell_type": "code",
   "execution_count": 8,
   "metadata": {},
   "outputs": [],
   "source": [
    "autoencoder.save('basic_autoencoder_768x32.h5')"
   ]
  },
  {
   "cell_type": "code",
   "execution_count": 10,
   "metadata": {},
   "outputs": [
    {
     "data": {
      "image/png": "[encoded data removed]",
      "text/plain": [
       "<Figure size 720x432 with 1 Axes>"
      ]
     },
     "metadata": {},
     "output_type": "display_data"
    }
   ],
   "source": [
    "import matplotlib.pyplot as plt \n",
    "plt.figure(figsize=(10, 6))\n",
    "plt.plot(hist.history['loss'],label=\"Loss\")\n",
    "plt.plot(hist.history['val_loss'],label=\"Val_Loss\")\n",
    "plt.title(\"Error del modelo\")\n",
    "plt.ylabel('MSE')\n",
    "plt.xlabel('Epochs')\n",
    "plt.legend(loc=\"upper right\")\n",
    "plt.show()\n"
   ]
  },
  {
   "cell_type": "markdown",
   "metadata": {},
   "source": [
    "> b) Compare visualmente la reconstrucción que logra hacer el autoencoder desde la representación en ${\\rm I\\!R}^{d'}$ para algunas imágenes del conjunto de pruebas. Determine si la percepción visual se corresponde con el error de reconstrucción observada. Comente.\n",
    "```python\n",
    "from keras.models import load_model\n",
    "autoencoder = load_model('basic_autoencoder_768x32.h5')\n",
    "#load other stuff ...\n",
    "encoded_test = encoder.predict(x_test)\n",
    "decoded_test = decoder.predict(encoded_test)\n",
    "import matplotlib\n",
    "n = 10\n",
    "plt.figure(figsize=(20, 4))\n",
    "for i in range(n):\n",
    "    ax = plt.subplot(2, n, i + 1)\n",
    "    plt.imshow(x_test[i].reshape(28, 28),cmap='gray')\n",
    "    ax.get_xaxis().set_visible(False)\n",
    "    ax.get_yaxis().set_visible(False)\n",
    "    ax = plt.subplot(2, n, i + 1 + n)\n",
    "    plt.imshow(decoded_test[i].reshape(28, 28),cmap='gray')\n",
    "    ax.get_xaxis().set_visible(False)\n",
    "    ax.get_yaxis().set_visible(False)\n",
    "plt.show()\n",
    "```\n",
    "\n"
   ]
  },
  {
   "cell_type": "code",
   "execution_count": 11,
   "metadata": {},
   "outputs": [
    {
     "data": {
      "text/plain": [
       "3"
      ]
     },
     "execution_count": 11,
     "metadata": {},
     "output_type": "execute_result"
    }
   ],
   "source": [
    "from keras.models import load_model\n",
    "autoencoder = load_model('./basic_autoencoder_768x32.h5')"
   ]
  },
  {
   "cell_type": "code",
   "execution_count": 12,
   "metadata": {},
   "outputs": [],
   "source": [
    "#Reconstruir desde autoencoder ...la primera capa es el encoder y la ultima la decoder\n",
    "input_img = autoencoder.input\n",
    "encoder_layer = autoencoder.layers[-2]\n",
    "encoder = Model(inputs=input_img, outputs=encoder_layer(input_img))\n",
    "decoded_shape = Input(shape=(32,))   \n",
    "decoder_layer = autoencoder.layers[-1] \n",
    "decoder = Model(inputs=decoded_shape, outputs=decoder_layer(decoded_shape))\n",
    "\n",
    "encoded_test = encoder.predict(x_test)\n",
    "decoded_test = decoder.predict(encoded_test)"
   ]
  },
  {
   "cell_type": "code",
   "execution_count": 20,
   "metadata": {},
   "outputs": [
    {
     "data": {
      "image/png": "[encoded data removed]",
      "text/plain": [
       "<Figure size 1440x288 with 20 Axes>"
      ]
     },
     "metadata": {},
     "output_type": "display_data"
    }
   ],
   "source": [
    "n = 10\n",
    "plt.figure(figsize=(20, 4))\n",
    "\n",
    "for i in range(n):\n",
    "    \n",
    "    ax = plt.subplot(2, n, i + 1)\n",
    "    plt.imshow(x_test[i].reshape(28, 28),cmap='gray')\n",
    "    ax.get_xaxis().set_visible(False)\n",
    "    ax.get_yaxis().set_visible(False)\n",
    "    plt.title(\"True Image\")\n",
    "    ax = plt.subplot(2, n, i + 1 + n)\n",
    "    plt.imshow(decoded_test[i].reshape(28, 28),cmap='gray')\n",
    "    ax.get_xaxis().set_visible(False)\n",
    "    ax.get_yaxis().set_visible(False)\n",
    "    plt.title(\"Reconst Image\")\n",
    "    \n",
    "plt.show()"
   ]
  },
  {
   "cell_type": "markdown",
   "metadata": {},
   "source": [
    "> c) Para verificar la calidad de la representación obtenida, implemente el clasificador denominado $kNN$ (k-nearest neighbor): dada una imagen $x$, el clasificador busca las k = 10 imágenes de entrenamiento más similares (de acuerdo a una distancia, e.g. euclidiana) y predice como clase, la etiqueta más popular entre las imágenes cercanas. Mida el error de pruebas obtenido construyendo este clasificador sobre la data reducida a través del autocnder comparando con la representación reducida obtenida vía PCA (una técnica clásica de reducción de dimensionalidad) utilizando el mismo número de dimensiones $d'$= 2, 4, 8, 16, 32. Considere tanto el error de reconstrucción como el desempeño en clasificación , además de comparar los tiempos medios de predicción en ambos escenarios.\n",
    "```python\n",
    "from sklearn.decomposition import PCA\n",
    "from sklearn.neighbors import KNeighborsClassifier\n",
    "pca = PCA(n_components=d)\n",
    "#PCA\n",
    "pca.fit(x_train)\n",
    "pca_train = pca.transform(x_train)\n",
    "pca_test = pca.transform(x_test)\n",
    "#AUTOENCODER\n",
    "encoded_train = encoder.predict(x_train)\n",
    "encoded_test = encoder.predict(x_test)\n",
    "#CLASIFICATION\n",
    "clf = KNeighborsClassifier(10)\n",
    "clf.fit(pca_train, y_train)\n",
    "print 'Classification Accuracy PCA %.2f' % clf.score(pca_test,y_test)\n",
    "clf = KNeighborsClassifier(10)\n",
    "clf.fit(encoded_train, y_train)\n",
    "print 'Classification Accuracy %.2f' % clf.score(encoded_test,y_test)\n",
    "```\n",
    "\n"
   ]
  },
  {
   "cell_type": "code",
   "execution_count": null,
   "metadata": {},
   "outputs": [],
   "source": []
  },
  {
   "cell_type": "markdown",
   "metadata": {},
   "source": [
    "> d) Modifique el autoencoder básico construido en (a) para implementar un deep autoencoder (*deep AE*), es decir, un autoencoder con al menos dos capas ocultas. Demuestre experimentalmente que este autoencoder puede mejorar la compresión obtenida por PCA utilizando el mismo número de dimensiones $d'$ . Experimente con $d'$ =2, 4, 8, 16 y distintas profundidades (L = 2, 3, 4). Considere en esta comparación tanto el error de reconstrucción como el desempeño en clasificación (vı́a kNN) de cada representación. Comente.\n",
    "```python\n",
    "target_dim = 2 #try other and do a nice plot\n",
    "input_img = Input(shape=(784,))\n",
    "encoded1 = Dense(1000, activation='relu')(input_img)\n",
    "encoded2 = Dense(500, activation='relu')(encoded1)\n",
    "encoded3 = Dense(250, activation='relu')(encoded2)\n",
    "encoded4 = Dense(target_dim, activation='relu')(encoded3)\n",
    "decoded4 = Dense(250, activation='relu')(encoded4)\n",
    "decoded3 = Dense(500, activation='relu')(encoded3)\n",
    "decoded2 = Dense(1000, activation='relu')(decoded3)\n",
    "decoded1 = Dense(784, activation='sigmoid')(decoded2)\n",
    "autoencoder = Model(input=input_img, output=decoded1)\n",
    "encoder = Model(input=input_img, output=encoded3)\n",
    "autoencoder.compile(optimizer=SGD(lr=1.0), loss='binary_crossentropy')\n",
    "autoencoder.fit(x_train,x_train,epochs=40,batch_size=32,validation_data=(x_val,x_val))\n",
    "autoencoder.save('my_autoencoder_768x1000x500x250x2.h5')\n",
    "from sklearn.decomposition import PCA\n",
    "from sklearn.neighbors import KNeighborsClassifier\n",
    "pca = PCA(n_components=target_dim)\n",
    "pca.fit(x_train)\n",
    "```\n",
    "\n",
    "\n"
   ]
  },
  {
   "cell_type": "code",
   "execution_count": null,
   "metadata": {},
   "outputs": [],
   "source": []
  },
  {
   "cell_type": "markdown",
   "metadata": {},
   "source": [
    "> e) Elija algunas de las representaciones aprendidas anteriormente y visualı́celas usando la herramienta *TSNE* disponible en la librerı́a *sklearn*. Compare cualitativamente el resultado con aquel obtenido usando PCA con el mismo número de componentes\n",
    "```python\n",
    "nplot=5000 #warning: mind your memory!\n",
    "encoded_train = encoder.predict(x_train[:nplot])\n",
    "from sklearn.manifold import TSNE\n",
    "model = TSNE(n_components=2, random_state=0)\n",
    "encoded_train = model.fit_transform(encoded_train)\n",
    "plt.figure(figsize=(10, 10))\n",
    "colors={0:'b',1:'g',2:'r',3:'c',4:'m',5:'y',6:'k',7:'orange',8:'darkgreen',9:'maroon'}\n",
    "markers={0:'o',1:'+',2: 'v',3:'<',4:'>',5:'^',6:'s',7:'p',8:'*',9:'x'}\n",
    "for idx in xrange(0,nplot):\n",
    "    label = y_train[idx]\n",
    "    line = plt.plot(encoded_train[idx][0], encoded_train[idx][1],\n",
    "        color=colors[label], marker=markers[label], markersize=6)\n",
    "pca_train = pca.transform(x_train)\n",
    "encoded_train = pca_train[:nplot]\n",
    "... #plot PCA\n",
    "```\n",
    "\n"
   ]
  },
  {
   "cell_type": "code",
   "execution_count": null,
   "metadata": {},
   "outputs": [],
   "source": []
  },
  {
   "cell_type": "markdown",
   "metadata": {},
   "source": [
    "> f) Modifique el autoencoder construido en (a) para trabajar directamente sobre las imágenes de MNIST, sin tratarlas como vectores de 784 atributos, sino como matrices de tamaño $1\\times28\\times28$. Es posible lograr este objetivo utilizando capas convolucionales para definir el Encoder y el Decoder, comente como sufre las transformaciones el patrón de entrada. Compare la calidad de la representación reducida obtenida por el nuevo autoencoder con aquella obtenida anteriormente utilizando el mismo número de dimensiones. Comente.\n",
    "```python\n",
    "x_train = x_train.astype('float32') / 255.\n",
    "x_test = x_test.astype('float32') / 255.\n",
    "x_train = np.reshape(x_train, (len(x_train), 28, 28, 1)) #modify for th dim ordering\n",
    "x_test = np.reshape(x_test, (len(x_test), 28, 28, 1))\n",
    "input_img = Input(shape=(28, 28, 1))\n",
    "x = Conv2D(16, (3, 3), activation='relu', padding='same')(input_img)\n",
    "x = MaxPooling2D((2, 2), border_mode='same')(x)\n",
    "x = Conv2D(8, (3, 3), activation='relu', padding='same')(x)\n",
    "encoded = MaxPooling2D((2, 2))(x)\n",
    "x = Conv2D(8, (3, 3), activation='relu', padding='same')(encoded)\n",
    "x = UpSampling2D((2, 2))(x)\n",
    "x = Conv2D(16, (3, 3), activation='relu', padding='same')(x)\n",
    "x = UpSampling2D((2, 2))(x)\n",
    "decoded = Conv2D(1, (3, 3), activation='sigmoid', padding='same')(x)\n",
    "autoencoder = Model(input_img, decoded)\n",
    "autoencoder.compile(optimizer='adadelta', loss='binary_crossentropy')\n",
    "autoencoder.summary()\n",
    "```\n"
   ]
  },
  {
   "cell_type": "code",
   "execution_count": null,
   "metadata": {},
   "outputs": [],
   "source": []
  },
  {
   "cell_type": "code",
   "execution_count": null,
   "metadata": {},
   "outputs": [],
   "source": []
  },
  {
   "cell_type": "markdown",
   "metadata": {},
   "source": [
    "### 3.2 Denoising\n",
    "Como se ha discutido en clases, un denoising autoencoder (dAE) es esencialmente un autoencoder entrenado para reconstruir ejemplos parcialmente corruptos. Varios autores han demostrado que mediante esta modificación simple es posible obtener representaciones más robustas y significativas que aquellas obtenidas por un AE básico. En esta sección exploraremos la aplicación más “natural” o “directa” del método.\n",
    "\n",
    "> a) Genere artificialmente una versión corrupta de las imágenes en MNIST utilizando el siguiente modelo de ruido (masking noise): si $x\\in {\\rm I\\!R}^d$ es una de las imágenes originales, la versión ruidosa $\\~{x}$ se obtiene como $\\~{x} = x \\odot \\xi$ donde $\\odot$ denota el producto de Hadamard (componente a componente) y $\\xi \\in {\\rm I\\!R}^d$ es un vector aleatorio binario con componentes *Ber(p)* independientes.\n",
    "```python\n",
    "from numpy.random import binomial\n",
    "noise_level = 0.1\n",
    "noise_mask = binomial(n=1,p=noise_level,size=x_train.shape)\n",
    "noisy_x_train = x_train*noise_mask\n",
    "noise_mask = binomial(n=1,p=noise_level,size=x_val.shape)\n",
    "noisy_x_val = x_val*noise_mask\n",
    "noise_mask = binomial(n=1,p=noise_level,size=x_test.shape)\n",
    "noisy_x_test = x_test*noise_mask\n",
    "```\n",
    "\n",
    "> b) Entrene un autoencoder para reconstruir las imágenes corruptas generadas en el ı́tem anterior. Mida el error de reconstrucción y evalúe cualitativamente (visualización de la imagen corrupta y reconstruida) el resultado para un subconjunto representativo de imágenes. Experimente diferentes valores de *p* en el rango (0, 1).\n",
    "```python\n",
    "# DEFINE YOUR AUTOENCODER AS BEFORE\n",
    "autoencoder.fit(noisy_x_train, x_train, epochs=40, batch_size=32, validation_data=(noisy_x_val, x_val))\n",
    "```\n",
    "\n",
    "> c) Utilice estas imágenes intencionalmente corruptas para entrenar un AE con fines de reducción de dimensionalidad. Durante el entrenamiento, proceda exactamente como en (b), pero su objetivo no será hacer *denoising* sino obtener una representación comprimida de alta calidad de las imágenes originales. Al final del entrenamiento, mida el error de reconstrucción como el desempeño en clasificación (vı́a kNN como en la sección anterior) de la representación obtenida. Comente.\n",
    "\n",
    "> d) Diseñe otra manera de generar imágenes corruptas del dataset MNIST, por ejemplo algún tipo de ruido, sea creativo. Mida el error de reconstrucción y evalúe cualitativamente (visualización de la imagen corrupta y reconstruida) el resultado para un subconjunto representativo de imágenes"
   ]
  },
  {
   "cell_type": "code",
   "execution_count": null,
   "metadata": {},
   "outputs": [],
   "source": []
  }
 ],
 "metadata": {
  "kernelspec": {
   "display_name": "Python 3",
   "language": "python",
   "name": "python3"
  },
  "language_info": {
   "codemirror_mode": {
    "name": "ipython",
    "version": 3
   },
   "file_extension": ".py",
   "mimetype": "text/x-python",
   "name": "python",
   "nbconvert_exporter": "python",
   "pygments_lexer": "ipython3",
   "version": "3.6.4"
  }
 },
 "nbformat": 4,
 "nbformat_minor": 2
}
